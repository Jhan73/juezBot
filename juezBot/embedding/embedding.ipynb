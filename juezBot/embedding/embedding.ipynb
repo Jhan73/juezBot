{
 "cells": [
  {
   "cell_type": "code",
   "execution_count": 2,
   "metadata": {},
   "outputs": [],
   "source": [
    "import openai\n",
    "import pandas as pd\n",
    "import numpy as np\n",
    "import os\n",
    "from openai.embeddings_utils import cosine_similarity\n",
    "from langchain.chains.question_answering import load_qa_chain\n",
    "from langchain.document_loaders import PyPDFLoader\n",
    "from langchain.text_splitter import CharacterTextSplitter"
   ]
  },
  {
   "attachments": {},
   "cell_type": "markdown",
   "metadata": {},
   "source": [
    "### Procesar datos de un PDF"
   ]
  },
  {
   "cell_type": "code",
   "execution_count": 1,
   "metadata": {},
   "outputs": [
    {
     "ename": "NameError",
     "evalue": "name 'PyPDFLoader' is not defined",
     "output_type": "error",
     "traceback": [
      "\u001b[1;31m---------------------------------------------------------------------------\u001b[0m",
      "\u001b[1;31mNameError\u001b[0m                                 Traceback (most recent call last)",
      "Cell \u001b[1;32mIn[1], line 1\u001b[0m\n\u001b[1;32m----> 1\u001b[0m loader \u001b[39m=\u001b[39m PyPDFLoader(\u001b[39m\"\u001b[39m\u001b[39mcodigoPenal.pdf\u001b[39m\u001b[39m\"\u001b[39m)\n\u001b[0;32m      2\u001b[0m pages \u001b[39m=\u001b[39m loader\u001b[39m.\u001b[39mload_and_split()\n",
      "\u001b[1;31mNameError\u001b[0m: name 'PyPDFLoader' is not defined"
     ]
    }
   ],
   "source": [
    "loader = PyPDFLoader(\"codigoPenal.pdf\")\n",
    "pages = loader.load_and_split()"
   ]
  },
  {
   "cell_type": "code",
   "execution_count": 4,
   "metadata": {},
   "outputs": [
    {
     "data": {
      "text/plain": [
       "'Responsabilidad Penal  \\nArtículo VII. - La pena requiere de la responsabilidad penal del autor. Queda proscrita \\ntoda forma de responsabilidad objetiva.  \\nProporcionalidad de las sanciones  \\nArtículo VIII. - La pena no puede sobrepasar la responsabilidad por el hecho. Esta \\nnorma no rige en caso de reincidencia ni de habitualidad del agente al delito. La \\nmedida de seguridad sólo puede ser ordenada por intereses públicos predominantes.  \\nFines de la Pena y Medidas de Seguridad  \\nArtículo IX. - La pena tiene función preventiva, protectora y resocializadora. Las \\nmedidas de seguridad persiguen fines de curación, tutela y rehabilitación.  \\nAplicación Supletoria de la Ley Penal  \\nArtículo X. - Las normas generales de este Código son aplicables a los hechos \\npunibles previstos en leyes especiales.  \\nLIBRO PRIMERO:  PARTE GENERAL  \\nTÍTULO I: DE LA LEY PENAL  \\nCAPÍTULO I: APLICACIÓN  ESPACIAL  \\nArtículo 1. - Principio de Territorialidad  \\nLa Ley Penal peruana se aplica a todo el que comete un hecho punible en el territorio \\nde la República, salvo las excepciones contenidas en el Derecho Internacional.  \\nTambién se aplica a los hechos punibles cometidos en:  \\n1. Las naves o aeronaves nacionales públicas, en d onde se encuentren; y,  \\n2. Las naves o aeronaves nacionales privadas, que se encuentren en alta mar o en \\nespacio aéreo donde ningún Estado ejerza soberanía.'"
      ]
     },
     "execution_count": 4,
     "metadata": {},
     "output_type": "execute_result"
    }
   ],
   "source": [
    "pages[1].page_content"
   ]
  },
  {
   "cell_type": "code",
   "execution_count": 5,
   "metadata": {},
   "outputs": [
    {
     "data": {
      "text/plain": [
       "226"
      ]
     },
     "execution_count": 5,
     "metadata": {},
     "output_type": "execute_result"
    }
   ],
   "source": [
    "len(pages)"
   ]
  },
  {
   "cell_type": "code",
   "execution_count": 6,
   "metadata": {},
   "outputs": [
    {
     "name": "stderr",
     "output_type": "stream",
     "text": [
      "Created a chunk of size 645, which is longer than the specified 400\n",
      "Created a chunk of size 620, which is longer than the specified 400\n",
      "Created a chunk of size 538, which is longer than the specified 400\n",
      "Created a chunk of size 692, which is longer than the specified 400\n",
      "Created a chunk of size 583, which is longer than the specified 400\n",
      "Created a chunk of size 586, which is longer than the specified 400\n",
      "Created a chunk of size 417, which is longer than the specified 400\n",
      "Created a chunk of size 502, which is longer than the specified 400\n",
      "Created a chunk of size 466, which is longer than the specified 400\n",
      "Created a chunk of size 538, which is longer than the specified 400\n",
      "Created a chunk of size 620, which is longer than the specified 400\n",
      "Created a chunk of size 448, which is longer than the specified 400\n",
      "Created a chunk of size 506, which is longer than the specified 400\n",
      "Created a chunk of size 727, which is longer than the specified 400\n",
      "Created a chunk of size 485, which is longer than the specified 400\n",
      "Created a chunk of size 660, which is longer than the specified 400\n",
      "Created a chunk of size 454, which is longer than the specified 400\n",
      "Created a chunk of size 811, which is longer than the specified 400\n",
      "Created a chunk of size 814, which is longer than the specified 400\n",
      "Created a chunk of size 658, which is longer than the specified 400\n",
      "Created a chunk of size 466, which is longer than the specified 400\n",
      "Created a chunk of size 501, which is longer than the specified 400\n",
      "Created a chunk of size 422, which is longer than the specified 400\n",
      "Created a chunk of size 451, which is longer than the specified 400\n",
      "Created a chunk of size 444, which is longer than the specified 400\n",
      "Created a chunk of size 475, which is longer than the specified 400\n",
      "Created a chunk of size 595, which is longer than the specified 400\n",
      "Created a chunk of size 489, which is longer than the specified 400\n",
      "Created a chunk of size 420, which is longer than the specified 400\n",
      "Created a chunk of size 415, which is longer than the specified 400\n",
      "Created a chunk of size 401, which is longer than the specified 400\n",
      "Created a chunk of size 570, which is longer than the specified 400\n",
      "Created a chunk of size 568, which is longer than the specified 400\n",
      "Created a chunk of size 465, which is longer than the specified 400\n",
      "Created a chunk of size 404, which is longer than the specified 400\n",
      "Created a chunk of size 406, which is longer than the specified 400\n",
      "Created a chunk of size 465, which is longer than the specified 400\n",
      "Created a chunk of size 455, which is longer than the specified 400\n",
      "Created a chunk of size 412, which is longer than the specified 400\n",
      "Created a chunk of size 535, which is longer than the specified 400\n",
      "Created a chunk of size 422, which is longer than the specified 400\n",
      "Created a chunk of size 706, which is longer than the specified 400\n",
      "Created a chunk of size 568, which is longer than the specified 400\n",
      "Created a chunk of size 420, which is longer than the specified 400\n",
      "Created a chunk of size 581, which is longer than the specified 400\n",
      "Created a chunk of size 456, which is longer than the specified 400\n",
      "Created a chunk of size 597, which is longer than the specified 400\n",
      "Created a chunk of size 419, which is longer than the specified 400\n",
      "Created a chunk of size 405, which is longer than the specified 400\n",
      "Created a chunk of size 541, which is longer than the specified 400\n",
      "Created a chunk of size 451, which is longer than the specified 400\n",
      "Created a chunk of size 556, which is longer than the specified 400\n",
      "Created a chunk of size 472, which is longer than the specified 400\n",
      "Created a chunk of size 502, which is longer than the specified 400\n",
      "Created a chunk of size 455, which is longer than the specified 400\n",
      "Created a chunk of size 466, which is longer than the specified 400\n",
      "Created a chunk of size 529, which is longer than the specified 400\n",
      "Created a chunk of size 544, which is longer than the specified 400\n",
      "Created a chunk of size 468, which is longer than the specified 400\n",
      "Created a chunk of size 856, which is longer than the specified 400\n",
      "Created a chunk of size 669, which is longer than the specified 400\n",
      "Created a chunk of size 722, which is longer than the specified 400\n",
      "Created a chunk of size 539, which is longer than the specified 400\n",
      "Created a chunk of size 427, which is longer than the specified 400\n",
      "Created a chunk of size 554, which is longer than the specified 400\n",
      "Created a chunk of size 405, which is longer than the specified 400\n",
      "Created a chunk of size 495, which is longer than the specified 400\n",
      "Created a chunk of size 682, which is longer than the specified 400\n",
      "Created a chunk of size 652, which is longer than the specified 400\n",
      "Created a chunk of size 421, which is longer than the specified 400\n",
      "Created a chunk of size 954, which is longer than the specified 400\n",
      "Created a chunk of size 413, which is longer than the specified 400\n",
      "Created a chunk of size 721, which is longer than the specified 400\n",
      "Created a chunk of size 570, which is longer than the specified 400\n",
      "Created a chunk of size 501, which is longer than the specified 400\n",
      "Created a chunk of size 453, which is longer than the specified 400\n",
      "Created a chunk of size 404, which is longer than the specified 400\n",
      "Created a chunk of size 538, which is longer than the specified 400\n",
      "Created a chunk of size 487, which is longer than the specified 400\n",
      "Created a chunk of size 419, which is longer than the specified 400\n",
      "Created a chunk of size 501, which is longer than the specified 400\n",
      "Created a chunk of size 527, which is longer than the specified 400\n",
      "Created a chunk of size 537, which is longer than the specified 400\n",
      "Created a chunk of size 437, which is longer than the specified 400\n",
      "Created a chunk of size 417, which is longer than the specified 400\n",
      "Created a chunk of size 448, which is longer than the specified 400\n",
      "Created a chunk of size 428, which is longer than the specified 400\n",
      "Created a chunk of size 427, which is longer than the specified 400\n",
      "Created a chunk of size 415, which is longer than the specified 400\n",
      "Created a chunk of size 637, which is longer than the specified 400\n",
      "Created a chunk of size 531, which is longer than the specified 400\n",
      "Created a chunk of size 629, which is longer than the specified 400\n",
      "Created a chunk of size 759, which is longer than the specified 400\n",
      "Created a chunk of size 466, which is longer than the specified 400\n",
      "Created a chunk of size 581, which is longer than the specified 400\n",
      "Created a chunk of size 415, which is longer than the specified 400\n",
      "Created a chunk of size 462, which is longer than the specified 400\n",
      "Created a chunk of size 437, which is longer than the specified 400\n",
      "Created a chunk of size 410, which is longer than the specified 400\n",
      "Created a chunk of size 505, which is longer than the specified 400\n",
      "Created a chunk of size 441, which is longer than the specified 400\n",
      "Created a chunk of size 478, which is longer than the specified 400\n",
      "Created a chunk of size 530, which is longer than the specified 400\n",
      "Created a chunk of size 530, which is longer than the specified 400\n",
      "Created a chunk of size 405, which is longer than the specified 400\n",
      "Created a chunk of size 485, which is longer than the specified 400\n",
      "Created a chunk of size 407, which is longer than the specified 400\n",
      "Created a chunk of size 567, which is longer than the specified 400\n",
      "Created a chunk of size 501, which is longer than the specified 400\n",
      "Created a chunk of size 413, which is longer than the specified 400\n",
      "Created a chunk of size 435, which is longer than the specified 400\n",
      "Created a chunk of size 789, which is longer than the specified 400\n",
      "Created a chunk of size 458, which is longer than the specified 400\n",
      "Created a chunk of size 837, which is longer than the specified 400\n",
      "Created a chunk of size 578, which is longer than the specified 400\n",
      "Created a chunk of size 511, which is longer than the specified 400\n",
      "Created a chunk of size 403, which is longer than the specified 400\n",
      "Created a chunk of size 437, which is longer than the specified 400\n",
      "Created a chunk of size 680, which is longer than the specified 400\n",
      "Created a chunk of size 419, which is longer than the specified 400\n",
      "Created a chunk of size 422, which is longer than the specified 400\n",
      "Created a chunk of size 413, which is longer than the specified 400\n",
      "Created a chunk of size 483, which is longer than the specified 400\n",
      "Created a chunk of size 427, which is longer than the specified 400\n",
      "Created a chunk of size 448, which is longer than the specified 400\n",
      "Created a chunk of size 609, which is longer than the specified 400\n",
      "Created a chunk of size 458, which is longer than the specified 400\n",
      "Created a chunk of size 475, which is longer than the specified 400\n",
      "Created a chunk of size 444, which is longer than the specified 400\n",
      "Created a chunk of size 515, which is longer than the specified 400\n",
      "Created a chunk of size 410, which is longer than the specified 400\n",
      "Created a chunk of size 475, which is longer than the specified 400\n",
      "Created a chunk of size 695, which is longer than the specified 400\n",
      "Created a chunk of size 470, which is longer than the specified 400\n",
      "Created a chunk of size 564, which is longer than the specified 400\n",
      "Created a chunk of size 558, which is longer than the specified 400\n",
      "Created a chunk of size 448, which is longer than the specified 400\n",
      "Created a chunk of size 443, which is longer than the specified 400\n",
      "Created a chunk of size 410, which is longer than the specified 400\n",
      "Created a chunk of size 415, which is longer than the specified 400\n",
      "Created a chunk of size 443, which is longer than the specified 400\n",
      "Created a chunk of size 894, which is longer than the specified 400\n",
      "Created a chunk of size 514, which is longer than the specified 400\n",
      "Created a chunk of size 416, which is longer than the specified 400\n",
      "Created a chunk of size 459, which is longer than the specified 400\n",
      "Created a chunk of size 464, which is longer than the specified 400\n",
      "Created a chunk of size 423, which is longer than the specified 400\n",
      "Created a chunk of size 480, which is longer than the specified 400\n",
      "Created a chunk of size 435, which is longer than the specified 400\n",
      "Created a chunk of size 520, which is longer than the specified 400\n",
      "Created a chunk of size 688, which is longer than the specified 400\n",
      "Created a chunk of size 459, which is longer than the specified 400\n",
      "Created a chunk of size 408, which is longer than the specified 400\n",
      "Created a chunk of size 417, which is longer than the specified 400\n",
      "Created a chunk of size 417, which is longer than the specified 400\n",
      "Created a chunk of size 632, which is longer than the specified 400\n",
      "Created a chunk of size 665, which is longer than the specified 400\n",
      "Created a chunk of size 454, which is longer than the specified 400\n",
      "Created a chunk of size 644, which is longer than the specified 400\n",
      "Created a chunk of size 451, which is longer than the specified 400\n",
      "Created a chunk of size 684, which is longer than the specified 400\n",
      "Created a chunk of size 437, which is longer than the specified 400\n",
      "Created a chunk of size 437, which is longer than the specified 400\n",
      "Created a chunk of size 1355, which is longer than the specified 400\n",
      "Created a chunk of size 409, which is longer than the specified 400\n"
     ]
    }
   ],
   "source": [
    "split = CharacterTextSplitter(chunk_size=400, separator = '  \\n')\n",
    "texts = split.split_documents(pages)"
   ]
  },
  {
   "cell_type": "code",
   "execution_count": 7,
   "metadata": {},
   "outputs": [
    {
     "data": {
      "text/plain": [
       "'Prohibición de la Analogía  \\nArtículo III. - No es permitida la analogía para calificar el hecho como delito o falta, \\ndefinir un estado de peligrosidad o determinar la pena o medida de seguridad que les \\ncorresponde.  \\nPrincipio de Lesividad  \\nArtículo IV. - La pena, necesariamente, precisa de la lesión o puesta en peligro de \\nbienes jurídicos tutelados por la ley.  \\nGarantía Jurisdiccional'"
      ]
     },
     "execution_count": 7,
     "metadata": {},
     "output_type": "execute_result"
    }
   ],
   "source": [
    "texts[2].page_content"
   ]
  },
  {
   "cell_type": "code",
   "execution_count": 8,
   "metadata": {},
   "outputs": [
    {
     "data": {
      "text/plain": [
       "1483"
      ]
     },
     "execution_count": 8,
     "metadata": {},
     "output_type": "execute_result"
    }
   ],
   "source": [
    "len(texts)"
   ]
  },
  {
   "cell_type": "code",
   "execution_count": 9,
   "metadata": {},
   "outputs": [],
   "source": [
    "texts = [str(text.page_content) for text in texts] #Lista de parrafos\n",
    "paragraphs = pd.DataFrame(texts, columns=[\"text\"])"
   ]
  },
  {
   "cell_type": "code",
   "execution_count": 10,
   "metadata": {},
   "outputs": [
    {
     "data": {
      "text/html": [
       "<div>\n",
       "<style scoped>\n",
       "    .dataframe tbody tr th:only-of-type {\n",
       "        vertical-align: middle;\n",
       "    }\n",
       "\n",
       "    .dataframe tbody tr th {\n",
       "        vertical-align: top;\n",
       "    }\n",
       "\n",
       "    .dataframe thead th {\n",
       "        text-align: right;\n",
       "    }\n",
       "</style>\n",
       "<table border=\"1\" class=\"dataframe\">\n",
       "  <thead>\n",
       "    <tr style=\"text-align: right;\">\n",
       "      <th></th>\n",
       "      <th>text</th>\n",
       "    </tr>\n",
       "  </thead>\n",
       "  <tbody>\n",
       "    <tr>\n",
       "      <th>0</th>\n",
       "      <td>CÓDIGO PENAL  \\nDECRETO LEGISLATIVO 635  \\nTít...</td>\n",
       "    </tr>\n",
       "    <tr>\n",
       "      <th>1</th>\n",
       "      <td>Finalidad Preventiva  \\nArtículo I. - Este Cód...</td>\n",
       "    </tr>\n",
       "    <tr>\n",
       "      <th>2</th>\n",
       "      <td>Prohibición de la Analogía  \\nArtículo III. - ...</td>\n",
       "    </tr>\n",
       "    <tr>\n",
       "      <th>3</th>\n",
       "      <td>Principio de Lesividad  \\nArtículo IV. - La pe...</td>\n",
       "    </tr>\n",
       "    <tr>\n",
       "      <th>4</th>\n",
       "      <td>Artículo V. - Sólo el Juez competente puede im...</td>\n",
       "    </tr>\n",
       "    <tr>\n",
       "      <th>...</th>\n",
       "      <td>...</td>\n",
       "    </tr>\n",
       "    <tr>\n",
       "      <th>1478</th>\n",
       "      <td>1. Las sentencias a pena de internamiento con ...</td>\n",
       "    </tr>\n",
       "    <tr>\n",
       "      <th>1479</th>\n",
       "      <td>2. Las sentencias a penas de p risión o penite...</td>\n",
       "    </tr>\n",
       "    <tr>\n",
       "      <th>1480</th>\n",
       "      <td>4. Las sentencias a penas de inhabilitación de...</td>\n",
       "    </tr>\n",
       "    <tr>\n",
       "      <th>1481</th>\n",
       "      <td>5. Las sentencias a pena de multa, fijada conf...</td>\n",
       "    </tr>\n",
       "    <tr>\n",
       "      <th>1482</th>\n",
       "      <td>QUINTA. - Los delitos de terrorismo se regirán...</td>\n",
       "    </tr>\n",
       "  </tbody>\n",
       "</table>\n",
       "<p>1483 rows × 1 columns</p>\n",
       "</div>"
      ],
      "text/plain": [
       "                                                   text\n",
       "0     CÓDIGO PENAL  \\nDECRETO LEGISLATIVO 635  \\nTít...\n",
       "1     Finalidad Preventiva  \\nArtículo I. - Este Cód...\n",
       "2     Prohibición de la Analogía  \\nArtículo III. - ...\n",
       "3     Principio de Lesividad  \\nArtículo IV. - La pe...\n",
       "4     Artículo V. - Sólo el Juez competente puede im...\n",
       "...                                                 ...\n",
       "1478  1. Las sentencias a pena de internamiento con ...\n",
       "1479  2. Las sentencias a penas de p risión o penite...\n",
       "1480  4. Las sentencias a penas de inhabilitación de...\n",
       "1481  5. Las sentencias a pena de multa, fijada conf...\n",
       "1482  QUINTA. - Los delitos de terrorismo se regirán...\n",
       "\n",
       "[1483 rows x 1 columns]"
      ]
     },
     "execution_count": 10,
     "metadata": {},
     "output_type": "execute_result"
    }
   ],
   "source": [
    "paragraphs"
   ]
  },
  {
   "cell_type": "code",
   "execution_count": 11,
   "metadata": {},
   "outputs": [
    {
     "name": "stderr",
     "output_type": "stream",
     "text": [
      "d:\\cursos UNI\\cursos 23-1\\AnaliticaDeDatos\\TGrupales\\FINAL\\JuezBot\\env\\Lib\\site-packages\\tqdm\\auto.py:21: TqdmWarning: IProgress not found. Please update jupyter and ipywidgets. See https://ipywidgets.readthedocs.io/en/stable/user_install.html\n",
      "  from .autonotebook import tqdm as notebook_tqdm\n"
     ]
    }
   ],
   "source": [
    "from sentence_transformers import SentenceTransformer"
   ]
  },
  {
   "cell_type": "code",
   "execution_count": 12,
   "metadata": {},
   "outputs": [],
   "source": [
    "model = SentenceTransformer('sentence-transformers/paraphrase-multilingual-MiniLM-L12-v2')"
   ]
  },
  {
   "cell_type": "code",
   "execution_count": 14,
   "metadata": {},
   "outputs": [],
   "source": [
    "paragraphs['Embedding'] = paragraphs[\"text\"].apply(lambda x: model.encode(x)) # Nueva columna con los embeddings de los parrafos\n",
    "paragraphs.to_csv('embeddings.csv')"
   ]
  },
  {
   "cell_type": "code",
   "execution_count": 15,
   "metadata": {},
   "outputs": [
    {
     "data": {
      "text/html": [
       "<div>\n",
       "<style scoped>\n",
       "    .dataframe tbody tr th:only-of-type {\n",
       "        vertical-align: middle;\n",
       "    }\n",
       "\n",
       "    .dataframe tbody tr th {\n",
       "        vertical-align: top;\n",
       "    }\n",
       "\n",
       "    .dataframe thead th {\n",
       "        text-align: right;\n",
       "    }\n",
       "</style>\n",
       "<table border=\"1\" class=\"dataframe\">\n",
       "  <thead>\n",
       "    <tr style=\"text-align: right;\">\n",
       "      <th></th>\n",
       "      <th>text</th>\n",
       "      <th>Embedding</th>\n",
       "    </tr>\n",
       "  </thead>\n",
       "  <tbody>\n",
       "    <tr>\n",
       "      <th>0</th>\n",
       "      <td>CÓDIGO PENAL  \\nDECRETO LEGISLATIVO 635  \\nTít...</td>\n",
       "      <td>[0.010199041, 0.23420632, -0.19662668, 0.05728...</td>\n",
       "    </tr>\n",
       "    <tr>\n",
       "      <th>1</th>\n",
       "      <td>Finalidad Preventiva  \\nArtículo I. - Este Cód...</td>\n",
       "      <td>[0.056329608, 0.18835348, -0.24528345, 0.09495...</td>\n",
       "    </tr>\n",
       "    <tr>\n",
       "      <th>2</th>\n",
       "      <td>Prohibición de la Analogía  \\nArtículo III. - ...</td>\n",
       "      <td>[0.085120454, -0.00930684, 0.00066791364, 0.05...</td>\n",
       "    </tr>\n",
       "    <tr>\n",
       "      <th>3</th>\n",
       "      <td>Principio de Lesividad  \\nArtículo IV. - La pe...</td>\n",
       "      <td>[0.074587435, 0.08403673, -0.054432847, -0.052...</td>\n",
       "    </tr>\n",
       "    <tr>\n",
       "      <th>4</th>\n",
       "      <td>Artículo V. - Sólo el Juez competente puede im...</td>\n",
       "      <td>[0.0057146926, 0.02657123, -0.016760958, -0.04...</td>\n",
       "    </tr>\n",
       "    <tr>\n",
       "      <th>...</th>\n",
       "      <td>...</td>\n",
       "      <td>...</td>\n",
       "    </tr>\n",
       "    <tr>\n",
       "      <th>1478</th>\n",
       "      <td>1. Las sentencias a pena de internamiento con ...</td>\n",
       "      <td>[-0.0030800109, 0.16682257, 0.0611269, -0.0610...</td>\n",
       "    </tr>\n",
       "    <tr>\n",
       "      <th>1479</th>\n",
       "      <td>2. Las sentencias a penas de p risión o penite...</td>\n",
       "      <td>[-0.037034243, 0.08793425, 0.016187878, -0.018...</td>\n",
       "    </tr>\n",
       "    <tr>\n",
       "      <th>1480</th>\n",
       "      <td>4. Las sentencias a penas de inhabilitación de...</td>\n",
       "      <td>[0.08741069, 0.15282379, 0.116064094, -0.00689...</td>\n",
       "    </tr>\n",
       "    <tr>\n",
       "      <th>1481</th>\n",
       "      <td>5. Las sentencias a pena de multa, fijada conf...</td>\n",
       "      <td>[0.011887475, 0.087663144, 0.04723517, -0.0859...</td>\n",
       "    </tr>\n",
       "    <tr>\n",
       "      <th>1482</th>\n",
       "      <td>QUINTA. - Los delitos de terrorismo se regirán...</td>\n",
       "      <td>[0.015799558, 0.111965895, -0.2874725, -0.1033...</td>\n",
       "    </tr>\n",
       "  </tbody>\n",
       "</table>\n",
       "<p>1483 rows × 2 columns</p>\n",
       "</div>"
      ],
      "text/plain": [
       "                                                   text  \\\n",
       "0     CÓDIGO PENAL  \\nDECRETO LEGISLATIVO 635  \\nTít...   \n",
       "1     Finalidad Preventiva  \\nArtículo I. - Este Cód...   \n",
       "2     Prohibición de la Analogía  \\nArtículo III. - ...   \n",
       "3     Principio de Lesividad  \\nArtículo IV. - La pe...   \n",
       "4     Artículo V. - Sólo el Juez competente puede im...   \n",
       "...                                                 ...   \n",
       "1478  1. Las sentencias a pena de internamiento con ...   \n",
       "1479  2. Las sentencias a penas de p risión o penite...   \n",
       "1480  4. Las sentencias a penas de inhabilitación de...   \n",
       "1481  5. Las sentencias a pena de multa, fijada conf...   \n",
       "1482  QUINTA. - Los delitos de terrorismo se regirán...   \n",
       "\n",
       "                                              Embedding  \n",
       "0     [0.010199041, 0.23420632, -0.19662668, 0.05728...  \n",
       "1     [0.056329608, 0.18835348, -0.24528345, 0.09495...  \n",
       "2     [0.085120454, -0.00930684, 0.00066791364, 0.05...  \n",
       "3     [0.074587435, 0.08403673, -0.054432847, -0.052...  \n",
       "4     [0.0057146926, 0.02657123, -0.016760958, -0.04...  \n",
       "...                                                 ...  \n",
       "1478  [-0.0030800109, 0.16682257, 0.0611269, -0.0610...  \n",
       "1479  [-0.037034243, 0.08793425, 0.016187878, -0.018...  \n",
       "1480  [0.08741069, 0.15282379, 0.116064094, -0.00689...  \n",
       "1481  [0.011887475, 0.087663144, 0.04723517, -0.0859...  \n",
       "1482  [0.015799558, 0.111965895, -0.2874725, -0.1033...  \n",
       "\n",
       "[1483 rows x 2 columns]"
      ]
     },
     "execution_count": 15,
     "metadata": {},
     "output_type": "execute_result"
    }
   ],
   "source": [
    "paragraphs"
   ]
  },
  {
   "cell_type": "code",
   "execution_count": 116,
   "metadata": {},
   "outputs": [],
   "source": [
    "knowledge_base = pd.read_csv('embeddings.csv')"
   ]
  },
  {
   "cell_type": "code",
   "execution_count": 117,
   "metadata": {},
   "outputs": [
    {
     "data": {
      "text/html": [
       "<div>\n",
       "<style scoped>\n",
       "    .dataframe tbody tr th:only-of-type {\n",
       "        vertical-align: middle;\n",
       "    }\n",
       "\n",
       "    .dataframe tbody tr th {\n",
       "        vertical-align: top;\n",
       "    }\n",
       "\n",
       "    .dataframe thead th {\n",
       "        text-align: right;\n",
       "    }\n",
       "</style>\n",
       "<table border=\"1\" class=\"dataframe\">\n",
       "  <thead>\n",
       "    <tr style=\"text-align: right;\">\n",
       "      <th></th>\n",
       "      <th>text</th>\n",
       "      <th>Embedding</th>\n",
       "    </tr>\n",
       "  </thead>\n",
       "  <tbody>\n",
       "    <tr>\n",
       "      <th>0</th>\n",
       "      <td>CÓDIGO PENAL  \\nDECRETO LEGISLATIVO 635  \\nTít...</td>\n",
       "      <td>[ 1.01990411e-02  2.34206319e-01 -1.96626678e-...</td>\n",
       "    </tr>\n",
       "    <tr>\n",
       "      <th>1</th>\n",
       "      <td>Finalidad Preventiva  \\nArtículo I. - Este Cód...</td>\n",
       "      <td>[ 5.63296080e-02  1.88353479e-01 -2.45283455e-...</td>\n",
       "    </tr>\n",
       "    <tr>\n",
       "      <th>2</th>\n",
       "      <td>Prohibición de la Analogía  \\nArtículo III. - ...</td>\n",
       "      <td>[ 0.08512045 -0.00930684  0.00066791  0.053062...</td>\n",
       "    </tr>\n",
       "    <tr>\n",
       "      <th>3</th>\n",
       "      <td>Principio de Lesividad  \\nArtículo IV. - La pe...</td>\n",
       "      <td>[ 7.45874345e-02  8.40367302e-02 -5.44328466e-...</td>\n",
       "    </tr>\n",
       "    <tr>\n",
       "      <th>4</th>\n",
       "      <td>Artículo V. - Sólo el Juez competente puede im...</td>\n",
       "      <td>[ 5.71469264e-03  2.65712291e-02 -1.67609584e-...</td>\n",
       "    </tr>\n",
       "    <tr>\n",
       "      <th>...</th>\n",
       "      <td>...</td>\n",
       "      <td>...</td>\n",
       "    </tr>\n",
       "    <tr>\n",
       "      <th>1478</th>\n",
       "      <td>1. Las sentencias a pena de internamiento con ...</td>\n",
       "      <td>[-3.08001088e-03  1.66822568e-01  6.11268990e-...</td>\n",
       "    </tr>\n",
       "    <tr>\n",
       "      <th>1479</th>\n",
       "      <td>2. Las sentencias a penas de p risión o penite...</td>\n",
       "      <td>[-0.03703424  0.08793425  0.01618788 -0.018388...</td>\n",
       "    </tr>\n",
       "    <tr>\n",
       "      <th>1480</th>\n",
       "      <td>4. Las sentencias a penas de inhabilitación de...</td>\n",
       "      <td>[ 8.74106884e-02  1.52823791e-01  1.16064094e-...</td>\n",
       "    </tr>\n",
       "    <tr>\n",
       "      <th>1481</th>\n",
       "      <td>5. Las sentencias a pena de multa, fijada conf...</td>\n",
       "      <td>[ 0.01188747  0.08766314  0.04723517 -0.085938...</td>\n",
       "    </tr>\n",
       "    <tr>\n",
       "      <th>1482</th>\n",
       "      <td>QUINTA. - Los delitos de terrorismo se regirán...</td>\n",
       "      <td>[ 1.57995578e-02  1.11965895e-01 -2.87472486e-...</td>\n",
       "    </tr>\n",
       "  </tbody>\n",
       "</table>\n",
       "<p>1483 rows × 2 columns</p>\n",
       "</div>"
      ],
      "text/plain": [
       "                                                   text  \\\n",
       "0     CÓDIGO PENAL  \\nDECRETO LEGISLATIVO 635  \\nTít...   \n",
       "1     Finalidad Preventiva  \\nArtículo I. - Este Cód...   \n",
       "2     Prohibición de la Analogía  \\nArtículo III. - ...   \n",
       "3     Principio de Lesividad  \\nArtículo IV. - La pe...   \n",
       "4     Artículo V. - Sólo el Juez competente puede im...   \n",
       "...                                                 ...   \n",
       "1478  1. Las sentencias a pena de internamiento con ...   \n",
       "1479  2. Las sentencias a penas de p risión o penite...   \n",
       "1480  4. Las sentencias a penas de inhabilitación de...   \n",
       "1481  5. Las sentencias a pena de multa, fijada conf...   \n",
       "1482  QUINTA. - Los delitos de terrorismo se regirán...   \n",
       "\n",
       "                                              Embedding  \n",
       "0     [ 1.01990411e-02  2.34206319e-01 -1.96626678e-...  \n",
       "1     [ 5.63296080e-02  1.88353479e-01 -2.45283455e-...  \n",
       "2     [ 0.08512045 -0.00930684  0.00066791  0.053062...  \n",
       "3     [ 7.45874345e-02  8.40367302e-02 -5.44328466e-...  \n",
       "4     [ 5.71469264e-03  2.65712291e-02 -1.67609584e-...  \n",
       "...                                                 ...  \n",
       "1478  [-3.08001088e-03  1.66822568e-01  6.11268990e-...  \n",
       "1479  [-0.03703424  0.08793425  0.01618788 -0.018388...  \n",
       "1480  [ 8.74106884e-02  1.52823791e-01  1.16064094e-...  \n",
       "1481  [ 0.01188747  0.08766314  0.04723517 -0.085938...  \n",
       "1482  [ 1.57995578e-02  1.11965895e-01 -2.87472486e-...  \n",
       "\n",
       "[1483 rows x 2 columns]"
      ]
     },
     "execution_count": 117,
     "metadata": {},
     "output_type": "execute_result"
    }
   ],
   "source": [
    "knowledge_base = knowledge_base.drop(knowledge_base.columns[0], axis=1)\n",
    "knowledge_base"
   ]
  },
  {
   "cell_type": "code",
   "execution_count": 105,
   "metadata": {},
   "outputs": [
    {
     "data": {
      "text/plain": [
       "text         object\n",
       "Embedding    object\n",
       "dtype: object"
      ]
     },
     "execution_count": 105,
     "metadata": {},
     "output_type": "execute_result"
    }
   ],
   "source": [
    "knowledge_base.dtypes"
   ]
  },
  {
   "cell_type": "code",
   "execution_count": 118,
   "metadata": {},
   "outputs": [
    {
     "name": "stdout",
     "output_type": "stream",
     "text": [
      "[ 1.01990411e-02  2.34206319e-01 -1.96626678e-01  5.72853610e-02\n",
      "  2.35024005e-01  1.48634419e-01  1.69670396e-02  1.31847754e-01\n",
      " -1.02606751e-02  2.21784160e-01  2.09920004e-01  1.14301696e-01\n",
      "  5.95639125e-02 -1.63720027e-02 -3.63679901e-02 -5.40374182e-02\n",
      " -5.62863424e-02  2.24696975e-02  1.17049869e-02  1.03825696e-01\n",
      "  1.92531094e-01  1.00697763e-01  1.25380874e-01 -5.19504920e-02\n",
      " -2.54078865e-01  7.13783363e-03 -1.21948518e-01 -1.57919914e-01\n",
      "  5.34923077e-02 -2.44170185e-02 -1.61913469e-01 -6.63562268e-02\n",
      "  1.22049026e-01  1.09952956e-01 -1.18728317e-01 -1.43067583e-01\n",
      "  1.94878340e-01  9.47726071e-02  3.20736840e-02  4.98162359e-02\n",
      " -1.44885510e-01  3.91587429e-02 -2.46980805e-02  5.91718443e-02\n",
      " -2.12066323e-02  2.65908195e-03  2.41010990e-02 -4.06131223e-02\n",
      " -1.53981194e-01 -2.07470238e-01 -3.38788517e-02  2.12621093e-02\n",
      "  1.76056586e-02  8.27829018e-02 -1.27735632e-02 -2.52171338e-01\n",
      "  9.38376561e-02 -4.52240650e-03 -5.64309210e-02  8.38433877e-02\n",
      "  1.28850192e-01 -4.64122929e-02 -1.30617976e-01 -5.09121045e-02\n",
      "  7.72451535e-02  4.06272821e-02 -1.12061938e-02  1.02612123e-01\n",
      "  3.57972048e-02  2.69976705e-01 -6.21636100e-02  8.93978998e-02\n",
      " -1.36732280e-01  3.49459164e-02  1.91600958e-03  3.78751871e-03\n",
      "  1.27819488e-02  4.71345335e-02  7.01695234e-02 -1.07332736e-01\n",
      "  7.59864897e-02  8.54965672e-03  5.12830317e-02  1.19258955e-01\n",
      " -2.24873900e-01  3.40662561e-02  7.05040991e-02  1.44380197e-01\n",
      "  8.22209641e-02 -9.79669541e-02  6.51449058e-03 -7.45992735e-02\n",
      "  2.89580882e-01 -4.11190279e-02  6.27487972e-02  5.16590886e-02\n",
      " -4.95316461e-02 -1.50128976e-01  8.25681314e-02  1.43949062e-01\n",
      " -2.33201478e-02  4.55775186e-02 -8.99045691e-02 -3.53679694e-02\n",
      "  1.31689683e-01  3.56083587e-02  2.02786952e-01 -1.67275533e-01\n",
      " -2.95958575e-02  5.20138629e-02 -2.72558481e-02  2.44084429e-02\n",
      " -7.94128403e-02 -5.66623211e-02  5.54448366e-02 -2.04366967e-02\n",
      "  8.82109553e-02  1.12681620e-01  1.31739184e-01  2.24648993e-02\n",
      "  9.60069820e-02 -2.10420355e-01  6.68411404e-02 -1.53665811e-01\n",
      "  2.03605324e-01 -1.51241466e-01  1.00852050e-01  8.62900764e-02\n",
      " -1.19491205e-01 -1.45977572e-01 -1.91919599e-02 -7.96040595e-02\n",
      "  1.50333168e-02 -1.31267514e-02 -5.43499477e-02 -6.51296452e-02\n",
      "  4.29624319e-02  2.25315467e-01  1.29876211e-01 -1.30982712e-01\n",
      "  6.18882105e-02  1.20022647e-01  2.34841947e-02  1.55262500e-01\n",
      "  1.03480659e-01  7.00898618e-02  2.27270294e-02 -2.15373766e-02\n",
      "  1.50699362e-01 -2.15179008e-02  2.40973681e-01 -1.07630365e-01\n",
      "  5.39514720e-02  5.49344011e-02 -3.23135965e-02  4.18016240e-02\n",
      "  2.24768430e-01  5.60263880e-02  1.64382279e-01  4.57297191e-02\n",
      " -4.17872630e-02 -2.81939972e-02  1.94789708e-01  1.43477365e-01\n",
      "  2.14895839e-03 -9.90293026e-02 -8.25781003e-02 -1.40882403e-01\n",
      " -1.09526537e-01  1.26326078e-04  1.01957269e-01 -8.98027420e-02\n",
      "  5.79246245e-02  3.19379680e-02 -1.10886298e-01 -9.98816937e-02\n",
      " -1.03181519e-01  1.61675811e-01 -1.67270333e-01  1.16268158e-01\n",
      "  3.38035151e-02 -2.59951770e-01 -2.13282406e-01 -8.31240695e-03\n",
      " -1.57426625e-01  1.77098811e-01 -1.39670014e-01  3.66289951e-02\n",
      "  1.86616164e-02  7.03157708e-02 -1.20808981e-01 -3.09116803e-02\n",
      "  5.35682850e-02 -1.30070895e-02 -9.70990881e-02 -2.23855510e-01\n",
      " -8.35895017e-02 -6.69467449e-02 -8.36832076e-02  6.65122792e-02\n",
      " -1.86094776e-01  8.89228806e-02 -4.23327759e-02  1.08602783e-02\n",
      "  1.44261390e-01 -7.71415830e-02  9.85287279e-02 -2.93739378e-01\n",
      " -1.01586357e-01 -3.57740261e-02 -1.84932332e-02  4.38013002e-02\n",
      " -2.54750475e-02 -1.58111155e-01  9.37828943e-02  7.32045248e-02\n",
      "  6.02230728e-02  1.17306948e-01 -4.20332770e-04  5.38903065e-02\n",
      " -4.03201766e-03  1.30120009e-01  1.11120984e-01 -2.48022288e-01\n",
      " -6.81874976e-02 -4.09497656e-02 -1.60264224e-01 -1.07795298e-01\n",
      " -1.92488804e-02  2.40943078e-02 -1.97786093e-01 -2.99897611e-01\n",
      "  2.12107808e-03 -3.49058509e-02 -1.51949808e-01 -1.27410978e-01\n",
      "  1.57607272e-01  8.60066786e-02 -1.11566829e-02 -8.37987140e-02\n",
      " -1.87280685e-01 -8.35428834e-02 -1.55337229e-01 -2.00268716e-01\n",
      " -1.60486717e-02 -2.27027535e-02 -3.49587947e-03  1.65854007e-01\n",
      " -1.12193197e-01  1.10327780e-01 -1.62604138e-01 -1.56438351e-01\n",
      "  5.80200665e-02 -7.12280422e-02  1.54195309e-01  3.39251645e-02\n",
      " -1.89861193e-01  1.71055663e-02 -1.60292432e-01 -2.63142318e-01\n",
      "  5.13438173e-02 -7.42580220e-02 -1.11034125e-01  1.86874971e-01\n",
      "  6.01335280e-02  6.92887679e-02  2.79055666e-02  6.85543045e-02\n",
      " -9.86267701e-02 -5.45123219e-03  1.68729663e-01 -7.82836750e-02\n",
      "  1.68628339e-02  1.92809559e-03  5.26301377e-02 -1.73165370e-02\n",
      "  5.35922609e-02 -1.14781812e-01  4.67798524e-02  1.73112601e-01\n",
      "  4.87406738e-02 -1.50023952e-01  3.32594523e-03 -1.19127713e-01\n",
      "  2.19444223e-02  1.40070409e-01 -7.98587650e-02  9.17457789e-02\n",
      "  7.74213672e-02  9.51411501e-02 -1.39259160e-01  1.51754960e-01\n",
      "  2.21437842e-01 -3.94668914e-02  5.46861365e-02  2.59501766e-02\n",
      " -2.27487653e-01 -5.31005003e-02 -1.04952909e-01 -8.36845711e-02\n",
      " -5.35642989e-02  2.48941611e-02 -1.05716929e-01  5.17152622e-02\n",
      "  1.66020885e-01 -4.86524627e-02  5.26050329e-02  6.05645850e-02\n",
      "  1.89868230e-02 -1.28560327e-02  1.87997162e-01 -1.77032769e-01\n",
      "  3.84656824e-02  2.05165464e-02  1.99512225e-02 -1.20872445e-02\n",
      " -3.01638037e-01 -7.00311959e-02  7.16139898e-02 -2.12986290e-01\n",
      " -1.48591166e-02 -6.87492639e-02 -9.27559882e-02  3.37937474e-02\n",
      "  8.35624803e-03  1.83996603e-01 -9.04776454e-02 -1.60118058e-01\n",
      " -1.52530551e-01 -1.14873923e-01  1.89314317e-02  1.99186146e-01\n",
      "  1.72628183e-03 -1.32210359e-01 -5.02093844e-02 -7.29646860e-03\n",
      " -6.03884831e-02 -6.49545342e-02 -3.88151556e-02  6.64511248e-02\n",
      "  2.18110546e-01  5.21968268e-02 -7.02530965e-02 -8.99308696e-02\n",
      "  1.85208507e-02  4.88377213e-02  1.50878280e-02 -3.00689433e-02\n",
      " -8.20356831e-02  8.22207704e-02  1.26001820e-01  1.33654818e-01\n",
      " -1.16113666e-02 -1.43778650e-02 -1.17069639e-01  8.46009143e-03\n",
      "  1.65261984e-01 -3.44597250e-02  8.28793272e-02 -1.04235418e-01\n",
      "  3.71567458e-02  1.08135179e-01  7.04637989e-02  2.04000473e-01\n",
      "  1.27450852e-02 -1.66895017e-01 -7.63867423e-02  8.16440284e-02\n",
      "  2.54483558e-02 -1.08375870e-01 -2.43103262e-02 -9.33677778e-02\n",
      "  8.53068978e-02  1.09778829e-01 -3.71684954e-02  4.09136936e-02\n",
      "  6.02348670e-02  9.71332863e-02 -1.59711748e-01  4.80517149e-02\n",
      "  7.95680508e-02 -5.75784668e-02  7.53360540e-02  7.55068660e-02]\n"
     ]
    }
   ],
   "source": [
    "print(knowledge_base.iloc[0,1])"
   ]
  },
  {
   "cell_type": "code",
   "execution_count": 119,
   "metadata": {},
   "outputs": [
    {
     "data": {
      "text/html": [
       "<div>\n",
       "<style scoped>\n",
       "    .dataframe tbody tr th:only-of-type {\n",
       "        vertical-align: middle;\n",
       "    }\n",
       "\n",
       "    .dataframe tbody tr th {\n",
       "        vertical-align: top;\n",
       "    }\n",
       "\n",
       "    .dataframe thead th {\n",
       "        text-align: right;\n",
       "    }\n",
       "</style>\n",
       "<table border=\"1\" class=\"dataframe\">\n",
       "  <thead>\n",
       "    <tr style=\"text-align: right;\">\n",
       "      <th></th>\n",
       "      <th>text</th>\n",
       "      <th>Embedding</th>\n",
       "    </tr>\n",
       "  </thead>\n",
       "  <tbody>\n",
       "    <tr>\n",
       "      <th>0</th>\n",
       "      <td>CÓDIGO PENAL  \\nDECRETO LEGISLATIVO 635  \\nTít...</td>\n",
       "      <td>[0.0101990411, 0.234206319, -0.196626678, 0.05...</td>\n",
       "    </tr>\n",
       "    <tr>\n",
       "      <th>1</th>\n",
       "      <td>Finalidad Preventiva  \\nArtículo I. - Este Cód...</td>\n",
       "      <td>[0.056329608, 0.188353479, -0.245283455, 0.094...</td>\n",
       "    </tr>\n",
       "    <tr>\n",
       "      <th>2</th>\n",
       "      <td>Prohibición de la Analogía  \\nArtículo III. - ...</td>\n",
       "      <td>[0.08512045, -0.00930684, 0.00066791, 0.053062...</td>\n",
       "    </tr>\n",
       "    <tr>\n",
       "      <th>3</th>\n",
       "      <td>Principio de Lesividad  \\nArtículo IV. - La pe...</td>\n",
       "      <td>[0.0745874345, 0.0840367302, -0.0544328466, -0...</td>\n",
       "    </tr>\n",
       "    <tr>\n",
       "      <th>4</th>\n",
       "      <td>Artículo V. - Sólo el Juez competente puede im...</td>\n",
       "      <td>[0.00571469264, 0.0265712291, -0.0167609584, -...</td>\n",
       "    </tr>\n",
       "    <tr>\n",
       "      <th>...</th>\n",
       "      <td>...</td>\n",
       "      <td>...</td>\n",
       "    </tr>\n",
       "    <tr>\n",
       "      <th>1478</th>\n",
       "      <td>1. Las sentencias a pena de internamiento con ...</td>\n",
       "      <td>[-0.00308001088, 0.166822568, 0.061126899, -0....</td>\n",
       "    </tr>\n",
       "    <tr>\n",
       "      <th>1479</th>\n",
       "      <td>2. Las sentencias a penas de p risión o penite...</td>\n",
       "      <td>[-0.03703424, 0.08793425, 0.01618788, -0.01838...</td>\n",
       "    </tr>\n",
       "    <tr>\n",
       "      <th>1480</th>\n",
       "      <td>4. Las sentencias a penas de inhabilitación de...</td>\n",
       "      <td>[0.0874106884, 0.152823791, 0.116064094, -0.00...</td>\n",
       "    </tr>\n",
       "    <tr>\n",
       "      <th>1481</th>\n",
       "      <td>5. Las sentencias a pena de multa, fijada conf...</td>\n",
       "      <td>[0.01188747, 0.08766314, 0.04723517, -0.085938...</td>\n",
       "    </tr>\n",
       "    <tr>\n",
       "      <th>1482</th>\n",
       "      <td>QUINTA. - Los delitos de terrorismo se regirán...</td>\n",
       "      <td>[0.0157995578, 0.111965895, -0.287472486, -0.1...</td>\n",
       "    </tr>\n",
       "  </tbody>\n",
       "</table>\n",
       "<p>1483 rows × 2 columns</p>\n",
       "</div>"
      ],
      "text/plain": [
       "                                                   text  \\\n",
       "0     CÓDIGO PENAL  \\nDECRETO LEGISLATIVO 635  \\nTít...   \n",
       "1     Finalidad Preventiva  \\nArtículo I. - Este Cód...   \n",
       "2     Prohibición de la Analogía  \\nArtículo III. - ...   \n",
       "3     Principio de Lesividad  \\nArtículo IV. - La pe...   \n",
       "4     Artículo V. - Sólo el Juez competente puede im...   \n",
       "...                                                 ...   \n",
       "1478  1. Las sentencias a pena de internamiento con ...   \n",
       "1479  2. Las sentencias a penas de p risión o penite...   \n",
       "1480  4. Las sentencias a penas de inhabilitación de...   \n",
       "1481  5. Las sentencias a pena de multa, fijada conf...   \n",
       "1482  QUINTA. - Los delitos de terrorismo se regirán...   \n",
       "\n",
       "                                              Embedding  \n",
       "0     [0.0101990411, 0.234206319, -0.196626678, 0.05...  \n",
       "1     [0.056329608, 0.188353479, -0.245283455, 0.094...  \n",
       "2     [0.08512045, -0.00930684, 0.00066791, 0.053062...  \n",
       "3     [0.0745874345, 0.0840367302, -0.0544328466, -0...  \n",
       "4     [0.00571469264, 0.0265712291, -0.0167609584, -...  \n",
       "...                                                 ...  \n",
       "1478  [-0.00308001088, 0.166822568, 0.061126899, -0....  \n",
       "1479  [-0.03703424, 0.08793425, 0.01618788, -0.01838...  \n",
       "1480  [0.0874106884, 0.152823791, 0.116064094, -0.00...  \n",
       "1481  [0.01188747, 0.08766314, 0.04723517, -0.085938...  \n",
       "1482  [0.0157995578, 0.111965895, -0.287472486, -0.1...  \n",
       "\n",
       "[1483 rows x 2 columns]"
      ]
     },
     "execution_count": 119,
     "metadata": {},
     "output_type": "execute_result"
    }
   ],
   "source": [
    "knowledge_base['Embedding'] = knowledge_base['Embedding'].str.strip('[]').str.split()\n",
    "knowledge_base['Embedding'] = knowledge_base['Embedding'].apply(lambda x: [float(num) for num in x])\n",
    "knowledge_base"
   ]
  },
  {
   "cell_type": "code",
   "execution_count": 120,
   "metadata": {},
   "outputs": [
    {
     "data": {
      "text/plain": [
       "list"
      ]
     },
     "execution_count": 120,
     "metadata": {},
     "output_type": "execute_result"
    }
   ],
   "source": [
    "type(knowledge_base.iloc[0,1])"
   ]
  },
  {
   "cell_type": "code",
   "execution_count": 121,
   "metadata": {},
   "outputs": [
    {
     "data": {
      "text/plain": [
       "float"
      ]
     },
     "execution_count": 121,
     "metadata": {},
     "output_type": "execute_result"
    }
   ],
   "source": [
    "type(knowledge_base.iloc[0,1][0])"
   ]
  },
  {
   "cell_type": "code",
   "execution_count": 124,
   "metadata": {},
   "outputs": [],
   "source": [
    "question = '¿la pena por homicidio calificado?'"
   ]
  },
  {
   "cell_type": "code",
   "execution_count": 125,
   "metadata": {},
   "outputs": [],
   "source": [
    "question_embed = model.encode(question)"
   ]
  },
  {
   "cell_type": "code",
   "execution_count": 126,
   "metadata": {},
   "outputs": [
    {
     "name": "stdout",
     "output_type": "stream",
     "text": [
      "[ 0.21032871  0.0856709  -0.15632981  0.01335955  0.5094658   0.04569569\n",
      "  0.35193023  0.01303518  0.10874153  0.389913    0.27479884 -0.0846829\n",
      " -0.13101439 -0.01061767 -0.22028618 -0.18735676 -0.04222305 -0.25545797\n",
      " -0.25266287  0.18770657 -0.01024128  0.13728175  0.539918   -0.07049277\n",
      "  0.11170628 -0.15195996 -0.03477295  0.04474377 -0.23344225  0.01910379\n",
      " -0.07731687 -0.15689911 -0.17022742 -0.11608572 -0.00827368 -0.17192997\n",
      "  0.28422686  0.31276977 -0.18069905 -0.25579238 -0.21982206  0.46936607\n",
      " -0.12158446  0.06953526  0.05796552 -0.10172577 -0.23064908  0.17407924\n",
      " -0.29328397 -0.20201904  0.03387491  0.09157315 -0.09443047  0.24598256\n",
      "  0.08355835 -0.47563866 -0.07482043  0.1036382  -0.10870533  0.23940724\n",
      " -0.21958093 -0.08960059  0.06706493 -0.18011966  0.04764018 -0.13771719\n",
      "  0.08665052 -0.16421889 -0.0238576   0.5006388   0.1630622   0.0299745\n",
      "  0.13385221 -0.13501847 -0.21445361 -0.23651218 -0.02328429  0.12781417\n",
      "  0.24341393 -0.25426856  0.11408689  0.0278082   0.00118868 -0.22654039\n",
      " -0.0948673  -0.17023906 -0.10189207  0.24857591  0.09114523  0.02321456\n",
      "  0.09415459 -0.25814632  0.3646274   0.11154205  0.02950379  0.14398941\n",
      " -0.31589735  0.15341386  0.1531157   0.3311478   0.00426503 -0.43972656\n",
      " -0.27434456  0.02300573  0.2769005   0.51056856  0.13928908 -0.12471933\n",
      " -0.36946595 -0.14103256 -0.13312198  0.37546393  0.29068488  0.10437524\n",
      "  0.27392438  0.39904597  0.16454327  0.3209287   0.1420864   0.16706735\n",
      "  0.38966742 -0.4176261  -0.28960952 -0.12905711  0.19998159 -0.17686519\n",
      " -0.26808545  0.18496706  0.06512291 -0.12861906 -0.05670662  0.00862573\n",
      "  0.20069852 -0.19658132 -0.16786186  0.5108891   0.04310508  0.40908816\n",
      "  0.12608837 -0.51836747  0.01518326 -0.04129688 -0.34809402  0.20836832\n",
      " -0.06861597  0.01880413  0.04170674 -0.24987459 -0.04825363  0.10529497\n",
      "  0.22077872 -0.29574743 -0.11763224  0.14152448 -0.31019127  0.10085223\n",
      "  0.11416864 -0.13415061  0.06459972  0.33835325  0.16925238  0.0283505\n",
      "  0.23914294  0.24815412 -0.23868412  0.09560183  0.09051659 -0.004268\n",
      " -0.03782767  0.03186547  0.0784248  -0.02848879 -0.15054566 -0.28829604\n",
      " -0.38294917  0.09190872 -0.1223737   0.5127764   0.05101949  0.07165274\n",
      "  0.2879141  -0.21236792 -0.4758439   0.419433    0.02226779  0.2420349\n",
      " -0.03621291 -0.3129988   0.34946907 -0.21459101 -0.14138728  0.1880398\n",
      " -0.09787515 -0.02415845  0.21336408  0.03791521 -0.0492692   0.0184033\n",
      " -0.2185773   0.45638373  0.2629502   0.24206088  0.06793334 -0.02894275\n",
      "  0.24338768 -0.06045926  0.02136209 -0.3323065  -0.12007878  0.25254723\n",
      " -0.03293866 -0.02212656  0.06768905 -0.06880072 -0.020789   -0.25063932\n",
      " -0.20308994  0.337948    0.05408244 -0.03164957 -0.11730525 -0.08766641\n",
      " -0.07733648 -0.23905073  0.21080843  0.10048883 -0.23151127 -0.02916181\n",
      " -0.01942901 -0.14554274 -0.48635846 -0.57857615 -0.19078545 -0.15189016\n",
      " -0.3020953  -0.14862317  0.05241058  0.27222878  0.11766913 -0.18638681\n",
      " -0.531969   -0.04807932 -0.14768802 -0.2861949  -0.05555918 -0.13653082\n",
      " -0.00157232  0.20283389  0.05065051 -0.15344514 -0.05734694 -0.07246449\n",
      " -0.10190489 -0.1223957   0.2952978   0.09200441  0.13519773  0.09274673\n",
      "  0.054994   -0.26884866  0.34007624 -0.28831908  0.14283781  0.2057659\n",
      "  0.0990228   0.1267543  -0.34618947  0.01646969 -0.21305785 -0.05592773\n",
      "  0.32313812  0.02243258  0.26341632 -0.10815081 -0.0511289  -0.10355194\n",
      "  0.07493985  0.12458363 -0.06776722  0.08046234 -0.14838833 -0.30172393\n",
      " -0.11614197  0.03416407 -0.08653496  0.06638071 -0.12627786  0.2136038\n",
      "  0.07136915  0.221559   -0.3845352  -0.05806586  0.04490967  0.0873368\n",
      "  0.10733526 -0.02467595 -0.35860565 -0.0414073  -0.08201214  0.02864373\n",
      " -0.02575434  0.17667958 -0.15329179  0.1948742   0.27834845 -0.329466\n",
      "  0.06092861  0.37384853  0.09404258  0.22001943  0.22543472 -0.23156947\n",
      " -0.18987656 -0.17583041  0.06482184 -0.35230282  0.12808567 -0.31351328\n",
      " -0.45149308 -0.18969345 -0.17182246 -0.12193634 -0.07475112 -0.01949761\n",
      " -0.2905447   0.3875232   0.02149833 -0.19327046 -0.16296355  0.04011267\n",
      "  0.00592792  0.24460402  0.02446174 -0.34684232 -0.3273885  -0.19495068\n",
      " -0.35015285 -0.11563431 -0.19174275  0.11494975  0.18827523  0.12560792\n",
      " -0.04354417  0.03774497  0.0565981  -0.0117391  -0.03527902  0.0232616\n",
      " -0.4289149   0.38870665 -0.15142034  0.06099577  0.19467378  0.25769064\n",
      " -0.00799161 -0.19037576  0.50830346  0.17199062  0.19432987  0.17289867\n",
      " -0.02948095  0.17879577  0.13493653  0.0814493   0.15082806  0.04558384\n",
      " -0.36415565  0.6707438  -0.05603175 -0.12938467  0.31298178 -0.00422491\n",
      " -0.43450087 -0.25313312 -0.00299423 -0.09543283  0.32317987  0.25792047\n",
      " -0.27137873  0.20195623  0.32322124 -0.14183655  0.05279809 -0.01306648]\n"
     ]
    }
   ],
   "source": [
    "print(question_embed)"
   ]
  },
  {
   "cell_type": "code",
   "execution_count": 127,
   "metadata": {},
   "outputs": [],
   "source": [
    "knowledge_base['Similarity'] = knowledge_base[\"Embedding\"].apply(lambda x: cosine_similarity(x, question_embed))\n",
    "knowledge_base = knowledge_base.sort_values('Similarity', ascending=False)\n"
   ]
  },
  {
   "cell_type": "code",
   "execution_count": 128,
   "metadata": {},
   "outputs": [
    {
     "data": {
      "text/html": [
       "<div>\n",
       "<style scoped>\n",
       "    .dataframe tbody tr th:only-of-type {\n",
       "        vertical-align: middle;\n",
       "    }\n",
       "\n",
       "    .dataframe tbody tr th {\n",
       "        vertical-align: top;\n",
       "    }\n",
       "\n",
       "    .dataframe thead th {\n",
       "        text-align: right;\n",
       "    }\n",
       "</style>\n",
       "<table border=\"1\" class=\"dataframe\">\n",
       "  <thead>\n",
       "    <tr style=\"text-align: right;\">\n",
       "      <th></th>\n",
       "      <th>text</th>\n",
       "      <th>Embedding</th>\n",
       "      <th>Similarity</th>\n",
       "    </tr>\n",
       "  </thead>\n",
       "  <tbody>\n",
       "    <tr>\n",
       "      <th>309</th>\n",
       "      <td>Artículo 112. - Homicidio piadoso  \\nEl que, p...</td>\n",
       "      <td>[0.0434350967, 0.0768171921, -0.121408165, -0....</td>\n",
       "      <td>0.750230</td>\n",
       "    </tr>\n",
       "    <tr>\n",
       "      <th>285</th>\n",
       "      <td>Artículo 108. - Homici dio calificado  \\nSerá ...</td>\n",
       "      <td>[0.00616669, 0.2675636, -0.13731667, -0.088770...</td>\n",
       "      <td>0.728749</td>\n",
       "    </tr>\n",
       "    <tr>\n",
       "      <th>306</th>\n",
       "      <td>Artículo 111. - Homicidio Culposo  \\nEl que, p...</td>\n",
       "      <td>[-0.0193109307, 0.121225983, -0.130721897, -0....</td>\n",
       "      <td>0.715270</td>\n",
       "    </tr>\n",
       "    <tr>\n",
       "      <th>303</th>\n",
       "      <td>Artículo 1 09.- Homicidio por emoción violenta...</td>\n",
       "      <td>[0.0125552472, 0.137540042, -0.101905376, 0.15...</td>\n",
       "      <td>0.708614</td>\n",
       "    </tr>\n",
       "    <tr>\n",
       "      <th>286</th>\n",
       "      <td>1. Por ferocidad, codicia, lucro o por placer....</td>\n",
       "      <td>[-0.032903716, 0.134831339, -0.176840395, 0.12...</td>\n",
       "      <td>0.698871</td>\n",
       "    </tr>\n",
       "    <tr>\n",
       "      <th>...</th>\n",
       "      <td>...</td>\n",
       "      <td>...</td>\n",
       "      <td>...</td>\n",
       "    </tr>\n",
       "    <tr>\n",
       "      <th>814</th>\n",
       "      <td>e. Un esquema de trazado (tipografía) registra...</td>\n",
       "      <td>[-0.182207912, -0.11940182, -0.0909199566, -0....</td>\n",
       "      <td>0.012564</td>\n",
       "    </tr>\n",
       "    <tr>\n",
       "      <th>1407</th>\n",
       "      <td>Es funcionario o servidor público extranjero t...</td>\n",
       "      <td>[-0.191319853, -0.105668768, 0.0957769305, -0....</td>\n",
       "      <td>0.008402</td>\n",
       "    </tr>\n",
       "    <tr>\n",
       "      <th>694</th>\n",
       "      <td>5. Si se realiza en el comercio de bienes mueb...</td>\n",
       "      <td>[0.0609379373, 0.0370237418, 0.0566918068, -0....</td>\n",
       "      <td>0.004114</td>\n",
       "    </tr>\n",
       "    <tr>\n",
       "      <th>660</th>\n",
       "      <td>Artículo 186 -A.- Dispositivos para asistir a ...</td>\n",
       "      <td>[-0.0821218491, 0.137757972, -0.155242577, -0....</td>\n",
       "      <td>-0.004578</td>\n",
       "    </tr>\n",
       "    <tr>\n",
       "      <th>658</th>\n",
       "      <td>12. Sobre bienes que forman parte de la infrae...</td>\n",
       "      <td>[0.0735901296, -0.0287527498, 0.0729466379, 0....</td>\n",
       "      <td>-0.038505</td>\n",
       "    </tr>\n",
       "  </tbody>\n",
       "</table>\n",
       "<p>1483 rows × 3 columns</p>\n",
       "</div>"
      ],
      "text/plain": [
       "                                                   text  \\\n",
       "309   Artículo 112. - Homicidio piadoso  \\nEl que, p...   \n",
       "285   Artículo 108. - Homici dio calificado  \\nSerá ...   \n",
       "306   Artículo 111. - Homicidio Culposo  \\nEl que, p...   \n",
       "303   Artículo 1 09.- Homicidio por emoción violenta...   \n",
       "286   1. Por ferocidad, codicia, lucro o por placer....   \n",
       "...                                                 ...   \n",
       "814   e. Un esquema de trazado (tipografía) registra...   \n",
       "1407  Es funcionario o servidor público extranjero t...   \n",
       "694   5. Si se realiza en el comercio de bienes mueb...   \n",
       "660   Artículo 186 -A.- Dispositivos para asistir a ...   \n",
       "658   12. Sobre bienes que forman parte de la infrae...   \n",
       "\n",
       "                                              Embedding  Similarity  \n",
       "309   [0.0434350967, 0.0768171921, -0.121408165, -0....    0.750230  \n",
       "285   [0.00616669, 0.2675636, -0.13731667, -0.088770...    0.728749  \n",
       "306   [-0.0193109307, 0.121225983, -0.130721897, -0....    0.715270  \n",
       "303   [0.0125552472, 0.137540042, -0.101905376, 0.15...    0.708614  \n",
       "286   [-0.032903716, 0.134831339, -0.176840395, 0.12...    0.698871  \n",
       "...                                                 ...         ...  \n",
       "814   [-0.182207912, -0.11940182, -0.0909199566, -0....    0.012564  \n",
       "1407  [-0.191319853, -0.105668768, 0.0957769305, -0....    0.008402  \n",
       "694   [0.0609379373, 0.0370237418, 0.0566918068, -0....    0.004114  \n",
       "660   [-0.0821218491, 0.137757972, -0.155242577, -0....   -0.004578  \n",
       "658   [0.0735901296, -0.0287527498, 0.0729466379, 0....   -0.038505  \n",
       "\n",
       "[1483 rows x 3 columns]"
      ]
     },
     "execution_count": 128,
     "metadata": {},
     "output_type": "execute_result"
    }
   ],
   "source": [
    "knowledge_base"
   ]
  },
  {
   "cell_type": "code",
   "execution_count": 130,
   "metadata": {},
   "outputs": [
    {
     "data": {
      "text/plain": [
       "'Artículo 108. - Homici dio calificado  \\nSerá reprimido con pena privativa de libertad no menor de quince años el que mate a \\notro concurriendo cualquiera de las circunstancias siguientes:  \\n1. Por ferocidad, codicia, lucro o por placer.  \\n2. Para facilitar u ocultar otro delito.  \\n3. Con gr an crueldad o alevosía.'"
      ]
     },
     "execution_count": 130,
     "metadata": {},
     "output_type": "execute_result"
    }
   ],
   "source": [
    "knowledge_base.iloc[1,0]"
   ]
  },
  {
   "cell_type": "code",
   "execution_count": 132,
   "metadata": {},
   "outputs": [],
   "source": [
    "select_paragraphs = knowledge_base.head(3)"
   ]
  },
  {
   "cell_type": "code",
   "execution_count": 133,
   "metadata": {},
   "outputs": [
    {
     "data": {
      "text/html": [
       "<div>\n",
       "<style scoped>\n",
       "    .dataframe tbody tr th:only-of-type {\n",
       "        vertical-align: middle;\n",
       "    }\n",
       "\n",
       "    .dataframe tbody tr th {\n",
       "        vertical-align: top;\n",
       "    }\n",
       "\n",
       "    .dataframe thead th {\n",
       "        text-align: right;\n",
       "    }\n",
       "</style>\n",
       "<table border=\"1\" class=\"dataframe\">\n",
       "  <thead>\n",
       "    <tr style=\"text-align: right;\">\n",
       "      <th></th>\n",
       "      <th>text</th>\n",
       "      <th>Embedding</th>\n",
       "      <th>Similarity</th>\n",
       "    </tr>\n",
       "  </thead>\n",
       "  <tbody>\n",
       "    <tr>\n",
       "      <th>309</th>\n",
       "      <td>Artículo 112. - Homicidio piadoso  \\nEl que, p...</td>\n",
       "      <td>[0.0434350967, 0.0768171921, -0.121408165, -0....</td>\n",
       "      <td>0.750230</td>\n",
       "    </tr>\n",
       "    <tr>\n",
       "      <th>285</th>\n",
       "      <td>Artículo 108. - Homici dio calificado  \\nSerá ...</td>\n",
       "      <td>[0.00616669, 0.2675636, -0.13731667, -0.088770...</td>\n",
       "      <td>0.728749</td>\n",
       "    </tr>\n",
       "    <tr>\n",
       "      <th>306</th>\n",
       "      <td>Artículo 111. - Homicidio Culposo  \\nEl que, p...</td>\n",
       "      <td>[-0.0193109307, 0.121225983, -0.130721897, -0....</td>\n",
       "      <td>0.715270</td>\n",
       "    </tr>\n",
       "  </tbody>\n",
       "</table>\n",
       "</div>"
      ],
      "text/plain": [
       "                                                  text  \\\n",
       "309  Artículo 112. - Homicidio piadoso  \\nEl que, p...   \n",
       "285  Artículo 108. - Homici dio calificado  \\nSerá ...   \n",
       "306  Artículo 111. - Homicidio Culposo  \\nEl que, p...   \n",
       "\n",
       "                                             Embedding  Similarity  \n",
       "309  [0.0434350967, 0.0768171921, -0.121408165, -0....    0.750230  \n",
       "285  [0.00616669, 0.2675636, -0.13731667, -0.088770...    0.728749  \n",
       "306  [-0.0193109307, 0.121225983, -0.130721897, -0....    0.715270  "
      ]
     },
     "execution_count": 133,
     "metadata": {},
     "output_type": "execute_result"
    }
   ],
   "source": [
    "select_paragraphs.head(3)"
   ]
  },
  {
   "cell_type": "code",
   "execution_count": 134,
   "metadata": {},
   "outputs": [],
   "source": [
    "context = ' '.join(select_paragraphs['text'])"
   ]
  },
  {
   "cell_type": "code",
   "execution_count": 135,
   "metadata": {},
   "outputs": [
    {
     "data": {
      "text/plain": [
       "'Artículo 112. - Homicidio piadoso  \\nEl que, por piedad, mata a un enfermo incurable que le solicita de manera expresa y \\nconsciente para poner fin a sus intolerables dolores, será reprimido con pena \\nprivativa de libertad no mayor de tres años. Artículo 108. - Homici dio calificado  \\nSerá reprimido con pena privativa de libertad no menor de quince años el que mate a \\notro concurriendo cualquiera de las circunstancias siguientes:  \\n1. Por ferocidad, codicia, lucro o por placer.  \\n2. Para facilitar u ocultar otro delito.  \\n3. Con gr an crueldad o alevosía. Artículo 111. - Homicidio Culposo  \\nEl que, por culpa, ocasiona la muerte de una persona, será reprimido con pena \\nprivativa de libertad no mayor de dos años o con prestación de servicios comunitarios \\nde cincuenta y dos a ciento cuatro jornadas.'"
      ]
     },
     "execution_count": 135,
     "metadata": {},
     "output_type": "execute_result"
    }
   ],
   "source": [
    "context"
   ]
  },
  {
   "cell_type": "code",
   "execution_count": 136,
   "metadata": {},
   "outputs": [],
   "source": [
    "def enviar_prompt(prompt, engine=\"text-davinci-002\", temp=0.5, max_tokens=100, top_p=1, frequency_penalty=0, presence_penalty=0):\n",
    "    respuesta = openai.Completion.create(\n",
    "                                            engine=engine,\n",
    "                                            prompt=prompt,\n",
    "                                            temperature=temp,\n",
    "                                            max_tokens=max_tokens,\n",
    "                                            top_p=top_p,\n",
    "                                            frequency_penalty=frequency_penalty,\n",
    "                                            presence_penalty=presence_penalty\n",
    "                                            )\n",
    "    return respuesta['choices'][0]['text']"
   ]
  },
  {
   "cell_type": "code",
   "execution_count": 138,
   "metadata": {},
   "outputs": [
    {
     "name": "stdout",
     "output_type": "stream",
     "text": [
      "\n",
      "\n",
      "La pena por homicidio calificado es de quince años de prisión.\n"
     ]
    }
   ],
   "source": [
    "respuesta = enviar_prompt(\n",
    "    \"en base al siguiente contexto: \"+context+\"\\nresponde a la siguiente pregunta: \"+question\n",
    ")\n",
    "\n",
    "\n",
    "print(respuesta)"
   ]
  }
 ],
 "metadata": {
  "kernelspec": {
   "display_name": "env",
   "language": "python",
   "name": "python3"
  },
  "language_info": {
   "codemirror_mode": {
    "name": "ipython",
    "version": 3
   },
   "file_extension": ".py",
   "mimetype": "text/x-python",
   "name": "python",
   "nbconvert_exporter": "python",
   "pygments_lexer": "ipython3",
   "version": "3.11.3"
  },
  "orig_nbformat": 4
 },
 "nbformat": 4,
 "nbformat_minor": 2
}
