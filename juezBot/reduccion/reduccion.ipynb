{
 "cells": [
  {
   "cell_type": "code",
   "execution_count": 1,
   "metadata": {},
   "outputs": [],
   "source": [
    "import pandas as pd\n",
    "import numpy as np\n",
    "import seaborn as sns\n",
    "import matplotlib.pyplot as plt"
   ]
  },
  {
   "cell_type": "markdown",
   "metadata": {},
   "source": [
    "Cargar data"
   ]
  },
  {
   "cell_type": "code",
   "execution_count": 2,
   "metadata": {},
   "outputs": [],
   "source": [
    "reducción_df = pd.read_csv('./datasetReduccion.csv', encoding='utf-8')"
   ]
  },
  {
   "cell_type": "code",
   "execution_count": 3,
   "metadata": {},
   "outputs": [
    {
     "data": {
      "text/html": [
       "<div>\n",
       "<style scoped>\n",
       "    .dataframe tbody tr th:only-of-type {\n",
       "        vertical-align: middle;\n",
       "    }\n",
       "\n",
       "    .dataframe tbody tr th {\n",
       "        vertical-align: top;\n",
       "    }\n",
       "\n",
       "    .dataframe thead th {\n",
       "        text-align: right;\n",
       "    }\n",
       "</style>\n",
       "<table border=\"1\" class=\"dataframe\">\n",
       "  <thead>\n",
       "    <tr style=\"text-align: right;\">\n",
       "      <th></th>\n",
       "      <th>Genero</th>\n",
       "      <th>Edad</th>\n",
       "      <th>Delito</th>\n",
       "      <th>Sentencia</th>\n",
       "      <th>Apelacion</th>\n",
       "      <th>Colaboracion con la justicia</th>\n",
       "      <th>programas de rehabilitación y tramiento</th>\n",
       "      <th>Amnistía o indulto</th>\n",
       "      <th>Motivos de salud</th>\n",
       "      <th>Reducción de pena</th>\n",
       "    </tr>\n",
       "  </thead>\n",
       "  <tbody>\n",
       "    <tr>\n",
       "      <th>0</th>\n",
       "      <td>Femenino</td>\n",
       "      <td>26</td>\n",
       "      <td>Homicidio calificado</td>\n",
       "      <td>25</td>\n",
       "      <td>La apelación fue rechazada</td>\n",
       "      <td>No</td>\n",
       "      <td>Si</td>\n",
       "      <td>Si</td>\n",
       "      <td>Si</td>\n",
       "      <td>2</td>\n",
       "    </tr>\n",
       "    <tr>\n",
       "      <th>1</th>\n",
       "      <td>Masculino</td>\n",
       "      <td>56</td>\n",
       "      <td>Homicidio simple</td>\n",
       "      <td>20</td>\n",
       "      <td>No hubo apelaciones</td>\n",
       "      <td>Si</td>\n",
       "      <td>Si</td>\n",
       "      <td>Si</td>\n",
       "      <td>Si</td>\n",
       "      <td>3</td>\n",
       "    </tr>\n",
       "    <tr>\n",
       "      <th>2</th>\n",
       "      <td>Femenino</td>\n",
       "      <td>26</td>\n",
       "      <td>Homicidio simple</td>\n",
       "      <td>30</td>\n",
       "      <td>La apelación fue rechazada</td>\n",
       "      <td>No</td>\n",
       "      <td>No</td>\n",
       "      <td>Si</td>\n",
       "      <td>No</td>\n",
       "      <td>2</td>\n",
       "    </tr>\n",
       "    <tr>\n",
       "      <th>3</th>\n",
       "      <td>Masculino</td>\n",
       "      <td>21</td>\n",
       "      <td>Homicidio calificado</td>\n",
       "      <td>35</td>\n",
       "      <td>La apelación fue rechazada</td>\n",
       "      <td>No</td>\n",
       "      <td>No</td>\n",
       "      <td>Si</td>\n",
       "      <td>No</td>\n",
       "      <td>1</td>\n",
       "    </tr>\n",
       "    <tr>\n",
       "      <th>4</th>\n",
       "      <td>Masculino</td>\n",
       "      <td>42</td>\n",
       "      <td>Homicidio simple</td>\n",
       "      <td>25</td>\n",
       "      <td>No hubo apelaciones</td>\n",
       "      <td>No</td>\n",
       "      <td>No</td>\n",
       "      <td>Si</td>\n",
       "      <td>No</td>\n",
       "      <td>1</td>\n",
       "    </tr>\n",
       "  </tbody>\n",
       "</table>\n",
       "</div>"
      ],
      "text/plain": [
       "      Genero  Edad                Delito  Sentencia  \\\n",
       "0   Femenino    26  Homicidio calificado         25   \n",
       "1  Masculino    56      Homicidio simple         20   \n",
       "2   Femenino    26      Homicidio simple         30   \n",
       "3  Masculino    21  Homicidio calificado         35   \n",
       "4  Masculino    42      Homicidio simple         25   \n",
       "\n",
       "                    Apelacion Colaboracion con la justicia  \\\n",
       "0  La apelación fue rechazada                           No   \n",
       "1         No hubo apelaciones                           Si   \n",
       "2  La apelación fue rechazada                           No   \n",
       "3  La apelación fue rechazada                           No   \n",
       "4         No hubo apelaciones                           No   \n",
       "\n",
       "  programas de rehabilitación y tramiento Amnistía o indulto Motivos de salud  \\\n",
       "0                                      Si                 Si               Si   \n",
       "1                                      Si                 Si               Si   \n",
       "2                                      No                 Si               No   \n",
       "3                                      No                 Si               No   \n",
       "4                                      No                 Si               No   \n",
       "\n",
       "   Reducción de pena  \n",
       "0                  2  \n",
       "1                  3  \n",
       "2                  2  \n",
       "3                  1  \n",
       "4                  1  "
      ]
     },
     "execution_count": 3,
     "metadata": {},
     "output_type": "execute_result"
    }
   ],
   "source": [
    "reducción_df.head()"
   ]
  },
  {
   "cell_type": "markdown",
   "metadata": {},
   "source": [
    "Partición de dataset"
   ]
  },
  {
   "cell_type": "code",
   "execution_count": 5,
   "metadata": {},
   "outputs": [
    {
     "data": {
      "text/html": [
       "<div>\n",
       "<style scoped>\n",
       "    .dataframe tbody tr th:only-of-type {\n",
       "        vertical-align: middle;\n",
       "    }\n",
       "\n",
       "    .dataframe tbody tr th {\n",
       "        vertical-align: top;\n",
       "    }\n",
       "\n",
       "    .dataframe thead th {\n",
       "        text-align: right;\n",
       "    }\n",
       "</style>\n",
       "<table border=\"1\" class=\"dataframe\">\n",
       "  <thead>\n",
       "    <tr style=\"text-align: right;\">\n",
       "      <th></th>\n",
       "      <th>Genero</th>\n",
       "      <th>Edad</th>\n",
       "      <th>Delito</th>\n",
       "      <th>Sentencia</th>\n",
       "      <th>Apelacion</th>\n",
       "      <th>Colaboracion con la justicia</th>\n",
       "      <th>programas de rehabilitación y tramiento</th>\n",
       "      <th>Amnistía o indulto</th>\n",
       "      <th>Motivos de salud</th>\n",
       "    </tr>\n",
       "  </thead>\n",
       "  <tbody>\n",
       "    <tr>\n",
       "      <th>0</th>\n",
       "      <td>Femenino</td>\n",
       "      <td>26</td>\n",
       "      <td>Homicidio calificado</td>\n",
       "      <td>25</td>\n",
       "      <td>La apelación fue rechazada</td>\n",
       "      <td>No</td>\n",
       "      <td>Si</td>\n",
       "      <td>Si</td>\n",
       "      <td>Si</td>\n",
       "    </tr>\n",
       "    <tr>\n",
       "      <th>1</th>\n",
       "      <td>Masculino</td>\n",
       "      <td>56</td>\n",
       "      <td>Homicidio simple</td>\n",
       "      <td>20</td>\n",
       "      <td>No hubo apelaciones</td>\n",
       "      <td>Si</td>\n",
       "      <td>Si</td>\n",
       "      <td>Si</td>\n",
       "      <td>Si</td>\n",
       "    </tr>\n",
       "    <tr>\n",
       "      <th>2</th>\n",
       "      <td>Femenino</td>\n",
       "      <td>26</td>\n",
       "      <td>Homicidio simple</td>\n",
       "      <td>30</td>\n",
       "      <td>La apelación fue rechazada</td>\n",
       "      <td>No</td>\n",
       "      <td>No</td>\n",
       "      <td>Si</td>\n",
       "      <td>No</td>\n",
       "    </tr>\n",
       "    <tr>\n",
       "      <th>3</th>\n",
       "      <td>Masculino</td>\n",
       "      <td>21</td>\n",
       "      <td>Homicidio calificado</td>\n",
       "      <td>35</td>\n",
       "      <td>La apelación fue rechazada</td>\n",
       "      <td>No</td>\n",
       "      <td>No</td>\n",
       "      <td>Si</td>\n",
       "      <td>No</td>\n",
       "    </tr>\n",
       "    <tr>\n",
       "      <th>4</th>\n",
       "      <td>Masculino</td>\n",
       "      <td>42</td>\n",
       "      <td>Homicidio simple</td>\n",
       "      <td>25</td>\n",
       "      <td>No hubo apelaciones</td>\n",
       "      <td>No</td>\n",
       "      <td>No</td>\n",
       "      <td>Si</td>\n",
       "      <td>No</td>\n",
       "    </tr>\n",
       "  </tbody>\n",
       "</table>\n",
       "</div>"
      ],
      "text/plain": [
       "      Genero  Edad                Delito  Sentencia  \\\n",
       "0   Femenino    26  Homicidio calificado         25   \n",
       "1  Masculino    56      Homicidio simple         20   \n",
       "2   Femenino    26      Homicidio simple         30   \n",
       "3  Masculino    21  Homicidio calificado         35   \n",
       "4  Masculino    42      Homicidio simple         25   \n",
       "\n",
       "                    Apelacion Colaboracion con la justicia  \\\n",
       "0  La apelación fue rechazada                           No   \n",
       "1         No hubo apelaciones                           Si   \n",
       "2  La apelación fue rechazada                           No   \n",
       "3  La apelación fue rechazada                           No   \n",
       "4         No hubo apelaciones                           No   \n",
       "\n",
       "  programas de rehabilitación y tramiento Amnistía o indulto Motivos de salud  \n",
       "0                                      Si                 Si               Si  \n",
       "1                                      Si                 Si               Si  \n",
       "2                                      No                 Si               No  \n",
       "3                                      No                 Si               No  \n",
       "4                                      No                 Si               No  "
      ]
     },
     "execution_count": 5,
     "metadata": {},
     "output_type": "execute_result"
    }
   ],
   "source": [
    "X = reducción_df.drop(['Reducción de pena'], axis=1)\n",
    "Y = reducción_df['Reducción de pena']\n",
    "X.head()"
   ]
  },
  {
   "cell_type": "code",
   "execution_count": 20,
   "metadata": {},
   "outputs": [
    {
     "data": {
      "text/html": [
       "<div>\n",
       "<style scoped>\n",
       "    .dataframe tbody tr th:only-of-type {\n",
       "        vertical-align: middle;\n",
       "    }\n",
       "\n",
       "    .dataframe tbody tr th {\n",
       "        vertical-align: top;\n",
       "    }\n",
       "\n",
       "    .dataframe thead th {\n",
       "        text-align: right;\n",
       "    }\n",
       "</style>\n",
       "<table border=\"1\" class=\"dataframe\">\n",
       "  <thead>\n",
       "    <tr style=\"text-align: right;\">\n",
       "      <th></th>\n",
       "      <th>Edad</th>\n",
       "      <th>Sentencia</th>\n",
       "    </tr>\n",
       "  </thead>\n",
       "  <tbody>\n",
       "    <tr>\n",
       "      <th>0</th>\n",
       "      <td>26</td>\n",
       "      <td>25</td>\n",
       "    </tr>\n",
       "    <tr>\n",
       "      <th>1</th>\n",
       "      <td>56</td>\n",
       "      <td>20</td>\n",
       "    </tr>\n",
       "    <tr>\n",
       "      <th>2</th>\n",
       "      <td>26</td>\n",
       "      <td>30</td>\n",
       "    </tr>\n",
       "    <tr>\n",
       "      <th>3</th>\n",
       "      <td>21</td>\n",
       "      <td>35</td>\n",
       "    </tr>\n",
       "    <tr>\n",
       "      <th>4</th>\n",
       "      <td>42</td>\n",
       "      <td>25</td>\n",
       "    </tr>\n",
       "  </tbody>\n",
       "</table>\n",
       "</div>"
      ],
      "text/plain": [
       "   Edad  Sentencia\n",
       "0    26         25\n",
       "1    56         20\n",
       "2    26         30\n",
       "3    21         35\n",
       "4    42         25"
      ]
     },
     "execution_count": 20,
     "metadata": {},
     "output_type": "execute_result"
    }
   ],
   "source": [
    "numerical = X[['Edad','Sentencia']]\n",
    "numerical.head()"
   ]
  },
  {
   "cell_type": "code",
   "execution_count": 6,
   "metadata": {},
   "outputs": [
    {
     "data": {
      "text/html": [
       "<div>\n",
       "<style scoped>\n",
       "    .dataframe tbody tr th:only-of-type {\n",
       "        vertical-align: middle;\n",
       "    }\n",
       "\n",
       "    .dataframe tbody tr th {\n",
       "        vertical-align: top;\n",
       "    }\n",
       "\n",
       "    .dataframe thead th {\n",
       "        text-align: right;\n",
       "    }\n",
       "</style>\n",
       "<table border=\"1\" class=\"dataframe\">\n",
       "  <thead>\n",
       "    <tr style=\"text-align: right;\">\n",
       "      <th></th>\n",
       "      <th>Genero</th>\n",
       "      <th>Delito</th>\n",
       "      <th>Apelacion</th>\n",
       "      <th>Colaboracion con la justicia</th>\n",
       "      <th>programas de rehabilitación y tramiento</th>\n",
       "      <th>Amnistía o indulto</th>\n",
       "      <th>Motivos de salud</th>\n",
       "    </tr>\n",
       "  </thead>\n",
       "  <tbody>\n",
       "    <tr>\n",
       "      <th>0</th>\n",
       "      <td>Femenino</td>\n",
       "      <td>Homicidio calificado</td>\n",
       "      <td>La apelación fue rechazada</td>\n",
       "      <td>No</td>\n",
       "      <td>Si</td>\n",
       "      <td>Si</td>\n",
       "      <td>Si</td>\n",
       "    </tr>\n",
       "    <tr>\n",
       "      <th>1</th>\n",
       "      <td>Masculino</td>\n",
       "      <td>Homicidio simple</td>\n",
       "      <td>No hubo apelaciones</td>\n",
       "      <td>Si</td>\n",
       "      <td>Si</td>\n",
       "      <td>Si</td>\n",
       "      <td>Si</td>\n",
       "    </tr>\n",
       "  </tbody>\n",
       "</table>\n",
       "</div>"
      ],
      "text/plain": [
       "      Genero                Delito                   Apelacion  \\\n",
       "0   Femenino  Homicidio calificado  La apelación fue rechazada   \n",
       "1  Masculino      Homicidio simple         No hubo apelaciones   \n",
       "\n",
       "  Colaboracion con la justicia programas de rehabilitación y tramiento  \\\n",
       "0                           No                                      Si   \n",
       "1                           Si                                      Si   \n",
       "\n",
       "  Amnistía o indulto Motivos de salud  \n",
       "0                 Si               Si  \n",
       "1                 Si               Si  "
      ]
     },
     "execution_count": 6,
     "metadata": {},
     "output_type": "execute_result"
    }
   ],
   "source": [
    "categoriacal = X.drop(['Edad','Sentencia'], axis=1)\n",
    "categoriacal.head(2)"
   ]
  },
  {
   "cell_type": "code",
   "execution_count": 12,
   "metadata": {},
   "outputs": [],
   "source": [
    "Genero = {'Femenino':1, 'Masculino':2}\n",
    "Delito = {'Simple': 1, 'Calificado': 2}\n",
    "Apelacion = {'La apelacion fue aceptada':1, 'No hubo apelaciones':2, 'La apelacion fue rechazada':3}\n",
    "ColaboracionJusticia ={'Si':1, 'No':2}\n",
    "ProgramasRehabilitacion= {'Si':1, 'No':2}\n",
    "AmnistiaOIndulto ={'Si':1, 'No':2}\n",
    "MotivosSalud ={'Si':1, 'No':2}"
   ]
  },
  {
   "cell_type": "code",
   "execution_count": 15,
   "metadata": {},
   "outputs": [
    {
     "data": {
      "text/plain": [
       "Index(['Genero', 'Delito', 'Apelacion', 'Colaboracion con la justicia',\n",
       "       'programas de rehabilitación y tramiento', 'Amnistía o indulto',\n",
       "       'Motivos de salud'],\n",
       "      dtype='object')"
      ]
     },
     "execution_count": 15,
     "metadata": {},
     "output_type": "execute_result"
    }
   ],
   "source": [
    "cat_numerical = pd.DataFrame()\n",
    "cat_numerical['Genero'] = categoriacal['Genero'].copy().map(Genero)\n",
    "cat_numerical['Delito'] = categoriacal['Delito'].copy().map(Delito)\n",
    "cat_numerical['Apelacion'] = categoriacal['Apelacion'].copy().map(Apelacion)\n",
    "cat_numerical['Colaboracion con la justicia'] = categoriacal['Colaboracion con la justicia'].copy().map(ColaboracionJusticia)\n",
    "cat_numerical['programas de rehabilitación y tramiento'] = categoriacal['programas de rehabilitación y tramiento'].copy().map(ProgramasRehabilitacion)\n",
    "cat_numerical['Amnistía o indulto'] = categoriacal['Amnistía o indulto'].copy().map(AmnistiaOIndulto)\n",
    "cat_numerical['Motivos de salud'] = categoriacal['Motivos de salud'].copy().map(MotivosSalud)\n",
    "\n",
    "atrib = categoriacal.keys()\n",
    "atrib"
   ]
  },
  {
   "cell_type": "code",
   "execution_count": 16,
   "metadata": {},
   "outputs": [
    {
     "data": {
      "text/html": [
       "<div>\n",
       "<style scoped>\n",
       "    .dataframe tbody tr th:only-of-type {\n",
       "        vertical-align: middle;\n",
       "    }\n",
       "\n",
       "    .dataframe tbody tr th {\n",
       "        vertical-align: top;\n",
       "    }\n",
       "\n",
       "    .dataframe thead th {\n",
       "        text-align: right;\n",
       "    }\n",
       "</style>\n",
       "<table border=\"1\" class=\"dataframe\">\n",
       "  <thead>\n",
       "    <tr style=\"text-align: right;\">\n",
       "      <th></th>\n",
       "      <th>Genero</th>\n",
       "      <th>Delito</th>\n",
       "      <th>Apelacion</th>\n",
       "      <th>Colaboracion con la justicia</th>\n",
       "      <th>programas de rehabilitación y tramiento</th>\n",
       "      <th>Amnistía o indulto</th>\n",
       "      <th>Motivos de salud</th>\n",
       "    </tr>\n",
       "  </thead>\n",
       "  <tbody>\n",
       "    <tr>\n",
       "      <th>0</th>\n",
       "      <td>1</td>\n",
       "      <td>NaN</td>\n",
       "      <td>NaN</td>\n",
       "      <td>2</td>\n",
       "      <td>1</td>\n",
       "      <td>1</td>\n",
       "      <td>1</td>\n",
       "    </tr>\n",
       "    <tr>\n",
       "      <th>1</th>\n",
       "      <td>2</td>\n",
       "      <td>NaN</td>\n",
       "      <td>2.0</td>\n",
       "      <td>1</td>\n",
       "      <td>1</td>\n",
       "      <td>1</td>\n",
       "      <td>1</td>\n",
       "    </tr>\n",
       "    <tr>\n",
       "      <th>2</th>\n",
       "      <td>1</td>\n",
       "      <td>NaN</td>\n",
       "      <td>NaN</td>\n",
       "      <td>2</td>\n",
       "      <td>2</td>\n",
       "      <td>1</td>\n",
       "      <td>2</td>\n",
       "    </tr>\n",
       "    <tr>\n",
       "      <th>3</th>\n",
       "      <td>2</td>\n",
       "      <td>NaN</td>\n",
       "      <td>NaN</td>\n",
       "      <td>2</td>\n",
       "      <td>2</td>\n",
       "      <td>1</td>\n",
       "      <td>2</td>\n",
       "    </tr>\n",
       "    <tr>\n",
       "      <th>4</th>\n",
       "      <td>2</td>\n",
       "      <td>NaN</td>\n",
       "      <td>2.0</td>\n",
       "      <td>2</td>\n",
       "      <td>2</td>\n",
       "      <td>1</td>\n",
       "      <td>2</td>\n",
       "    </tr>\n",
       "  </tbody>\n",
       "</table>\n",
       "</div>"
      ],
      "text/plain": [
       "   Genero  Delito  Apelacion  Colaboracion con la justicia  \\\n",
       "0       1     NaN        NaN                             2   \n",
       "1       2     NaN        2.0                             1   \n",
       "2       1     NaN        NaN                             2   \n",
       "3       2     NaN        NaN                             2   \n",
       "4       2     NaN        2.0                             2   \n",
       "\n",
       "   programas de rehabilitación y tramiento  Amnistía o indulto  \\\n",
       "0                                        1                   1   \n",
       "1                                        1                   1   \n",
       "2                                        2                   1   \n",
       "3                                        2                   1   \n",
       "4                                        2                   1   \n",
       "\n",
       "   Motivos de salud  \n",
       "0                 1  \n",
       "1                 1  \n",
       "2                 2  \n",
       "3                 2  \n",
       "4                 2  "
      ]
     },
     "execution_count": 16,
     "metadata": {},
     "output_type": "execute_result"
    }
   ],
   "source": [
    "cat_numerical.head()"
   ]
  },
  {
   "cell_type": "code",
   "execution_count": 17,
   "metadata": {},
   "outputs": [
    {
     "data": {
      "text/html": [
       "<div>\n",
       "<style scoped>\n",
       "    .dataframe tbody tr th:only-of-type {\n",
       "        vertical-align: middle;\n",
       "    }\n",
       "\n",
       "    .dataframe tbody tr th {\n",
       "        vertical-align: top;\n",
       "    }\n",
       "\n",
       "    .dataframe thead th {\n",
       "        text-align: right;\n",
       "    }\n",
       "</style>\n",
       "<table border=\"1\" class=\"dataframe\">\n",
       "  <thead>\n",
       "    <tr style=\"text-align: right;\">\n",
       "      <th></th>\n",
       "      <th>Genero</th>\n",
       "      <th>Delito</th>\n",
       "      <th>Apelacion</th>\n",
       "      <th>Colaboracion con la justicia</th>\n",
       "      <th>programas de rehabilitación y tramiento</th>\n",
       "      <th>Amnistía o indulto</th>\n",
       "      <th>Motivos de salud</th>\n",
       "    </tr>\n",
       "  </thead>\n",
       "  <tbody>\n",
       "    <tr>\n",
       "      <th>0</th>\n",
       "      <td>1</td>\n",
       "      <td>0.0</td>\n",
       "      <td>0.0</td>\n",
       "      <td>2</td>\n",
       "      <td>1</td>\n",
       "      <td>1</td>\n",
       "      <td>1</td>\n",
       "    </tr>\n",
       "    <tr>\n",
       "      <th>1</th>\n",
       "      <td>2</td>\n",
       "      <td>0.0</td>\n",
       "      <td>2.0</td>\n",
       "      <td>1</td>\n",
       "      <td>1</td>\n",
       "      <td>1</td>\n",
       "      <td>1</td>\n",
       "    </tr>\n",
       "    <tr>\n",
       "      <th>2</th>\n",
       "      <td>1</td>\n",
       "      <td>0.0</td>\n",
       "      <td>0.0</td>\n",
       "      <td>2</td>\n",
       "      <td>2</td>\n",
       "      <td>1</td>\n",
       "      <td>2</td>\n",
       "    </tr>\n",
       "    <tr>\n",
       "      <th>3</th>\n",
       "      <td>2</td>\n",
       "      <td>0.0</td>\n",
       "      <td>0.0</td>\n",
       "      <td>2</td>\n",
       "      <td>2</td>\n",
       "      <td>1</td>\n",
       "      <td>2</td>\n",
       "    </tr>\n",
       "    <tr>\n",
       "      <th>4</th>\n",
       "      <td>2</td>\n",
       "      <td>0.0</td>\n",
       "      <td>2.0</td>\n",
       "      <td>2</td>\n",
       "      <td>2</td>\n",
       "      <td>1</td>\n",
       "      <td>2</td>\n",
       "    </tr>\n",
       "  </tbody>\n",
       "</table>\n",
       "</div>"
      ],
      "text/plain": [
       "   Genero  Delito  Apelacion  Colaboracion con la justicia  \\\n",
       "0       1     0.0        0.0                             2   \n",
       "1       2     0.0        2.0                             1   \n",
       "2       1     0.0        0.0                             2   \n",
       "3       2     0.0        0.0                             2   \n",
       "4       2     0.0        2.0                             2   \n",
       "\n",
       "   programas de rehabilitación y tramiento  Amnistía o indulto  \\\n",
       "0                                        1                   1   \n",
       "1                                        1                   1   \n",
       "2                                        2                   1   \n",
       "3                                        2                   1   \n",
       "4                                        2                   1   \n",
       "\n",
       "   Motivos de salud  \n",
       "0                 1  \n",
       "1                 1  \n",
       "2                 2  \n",
       "3                 2  \n",
       "4                 2  "
      ]
     },
     "execution_count": 17,
     "metadata": {},
     "output_type": "execute_result"
    }
   ],
   "source": [
    "cat_numerical = cat_numerical.fillna(0)\n",
    "cat_numerical.head()"
   ]
  },
  {
   "cell_type": "code",
   "execution_count": 21,
   "metadata": {},
   "outputs": [
    {
     "data": {
      "text/html": [
       "<div>\n",
       "<style scoped>\n",
       "    .dataframe tbody tr th:only-of-type {\n",
       "        vertical-align: middle;\n",
       "    }\n",
       "\n",
       "    .dataframe tbody tr th {\n",
       "        vertical-align: top;\n",
       "    }\n",
       "\n",
       "    .dataframe thead th {\n",
       "        text-align: right;\n",
       "    }\n",
       "</style>\n",
       "<table border=\"1\" class=\"dataframe\">\n",
       "  <thead>\n",
       "    <tr style=\"text-align: right;\">\n",
       "      <th></th>\n",
       "      <th>Edad</th>\n",
       "      <th>Sentencia</th>\n",
       "      <th>Genero</th>\n",
       "      <th>Delito</th>\n",
       "      <th>Apelacion</th>\n",
       "      <th>Colaboracion con la justicia</th>\n",
       "      <th>programas de rehabilitación y tramiento</th>\n",
       "      <th>Amnistía o indulto</th>\n",
       "      <th>Motivos de salud</th>\n",
       "    </tr>\n",
       "  </thead>\n",
       "  <tbody>\n",
       "    <tr>\n",
       "      <th>0</th>\n",
       "      <td>26</td>\n",
       "      <td>25</td>\n",
       "      <td>1</td>\n",
       "      <td>0.0</td>\n",
       "      <td>0.0</td>\n",
       "      <td>2</td>\n",
       "      <td>1</td>\n",
       "      <td>1</td>\n",
       "      <td>1</td>\n",
       "    </tr>\n",
       "    <tr>\n",
       "      <th>1</th>\n",
       "      <td>56</td>\n",
       "      <td>20</td>\n",
       "      <td>2</td>\n",
       "      <td>0.0</td>\n",
       "      <td>2.0</td>\n",
       "      <td>1</td>\n",
       "      <td>1</td>\n",
       "      <td>1</td>\n",
       "      <td>1</td>\n",
       "    </tr>\n",
       "    <tr>\n",
       "      <th>2</th>\n",
       "      <td>26</td>\n",
       "      <td>30</td>\n",
       "      <td>1</td>\n",
       "      <td>0.0</td>\n",
       "      <td>0.0</td>\n",
       "      <td>2</td>\n",
       "      <td>2</td>\n",
       "      <td>1</td>\n",
       "      <td>2</td>\n",
       "    </tr>\n",
       "    <tr>\n",
       "      <th>3</th>\n",
       "      <td>21</td>\n",
       "      <td>35</td>\n",
       "      <td>2</td>\n",
       "      <td>0.0</td>\n",
       "      <td>0.0</td>\n",
       "      <td>2</td>\n",
       "      <td>2</td>\n",
       "      <td>1</td>\n",
       "      <td>2</td>\n",
       "    </tr>\n",
       "    <tr>\n",
       "      <th>4</th>\n",
       "      <td>42</td>\n",
       "      <td>25</td>\n",
       "      <td>2</td>\n",
       "      <td>0.0</td>\n",
       "      <td>2.0</td>\n",
       "      <td>2</td>\n",
       "      <td>2</td>\n",
       "      <td>1</td>\n",
       "      <td>2</td>\n",
       "    </tr>\n",
       "  </tbody>\n",
       "</table>\n",
       "</div>"
      ],
      "text/plain": [
       "   Edad  Sentencia  Genero  Delito  Apelacion  Colaboracion con la justicia  \\\n",
       "0    26         25       1     0.0        0.0                             2   \n",
       "1    56         20       2     0.0        2.0                             1   \n",
       "2    26         30       1     0.0        0.0                             2   \n",
       "3    21         35       2     0.0        0.0                             2   \n",
       "4    42         25       2     0.0        2.0                             2   \n",
       "\n",
       "   programas de rehabilitación y tramiento  Amnistía o indulto  \\\n",
       "0                                        1                   1   \n",
       "1                                        1                   1   \n",
       "2                                        2                   1   \n",
       "3                                        2                   1   \n",
       "4                                        2                   1   \n",
       "\n",
       "   Motivos de salud  \n",
       "0                 1  \n",
       "1                 1  \n",
       "2                 2  \n",
       "3                 2  \n",
       "4                 2  "
      ]
     },
     "execution_count": 21,
     "metadata": {},
     "output_type": "execute_result"
    }
   ],
   "source": [
    "X = pd.concat([numerical, cat_numerical], axis=1)\n",
    "X.head()"
   ]
  },
  {
   "cell_type": "markdown",
   "metadata": {},
   "source": [
    "\n",
    "División de datos para entrenamiento"
   ]
  },
  {
   "cell_type": "code",
   "execution_count": 22,
   "metadata": {},
   "outputs": [],
   "source": [
    "from sklearn.model_selection import train_test_split"
   ]
  },
  {
   "cell_type": "code",
   "execution_count": 23,
   "metadata": {},
   "outputs": [],
   "source": [
    "X_train, X_test, Y_train, Y_test = train_test_split(X, Y, test_size=0.20, random_state=0)"
   ]
  },
  {
   "cell_type": "code",
   "execution_count": 24,
   "metadata": {},
   "outputs": [],
   "source": [
    "from sklearn.preprocessing import StandardScaler"
   ]
  },
  {
   "cell_type": "code",
   "execution_count": 25,
   "metadata": {},
   "outputs": [],
   "source": [
    "sc = StandardScaler()\n",
    "X_train = sc.fit_transform(X_train)\n",
    "X_test = sc.transform(X_test)"
   ]
  },
  {
   "cell_type": "markdown",
   "metadata": {},
   "source": [
    "Implementación de Random Forest"
   ]
  },
  {
   "cell_type": "code",
   "execution_count": 26,
   "metadata": {},
   "outputs": [],
   "source": [
    "from sklearn.ensemble import RandomForestRegressor"
   ]
  },
  {
   "cell_type": "code",
   "execution_count": 27,
   "metadata": {},
   "outputs": [],
   "source": [
    "rf_reg = RandomForestRegressor(random_state=42, n_estimators=500)\n",
    "regressor = rf_reg.fit(X_train, Y_train)\n",
    "y_pred = regressor.predict(X_test)"
   ]
  },
  {
   "cell_type": "markdown",
   "metadata": {},
   "source": [
    "Cálculo de Métricas"
   ]
  },
  {
   "cell_type": "code",
   "execution_count": 28,
   "metadata": {},
   "outputs": [],
   "source": [
    "from sklearn import metrics"
   ]
  },
  {
   "cell_type": "code",
   "execution_count": 29,
   "metadata": {},
   "outputs": [
    {
     "name": "stdout",
     "output_type": "stream",
     "text": [
      "Mean Absolute Error:  0.370625\n",
      "Mean Squared Error:  0.24690024999999996\n",
      "Root Mean Squared Rerror:  0.49689058151669563\n"
     ]
    }
   ],
   "source": [
    "print('Mean Absolute Error: ', metrics.mean_absolute_error(Y_test, y_pred))\n",
    "print('Mean Squared Error: ', metrics.mean_squared_error(Y_test, y_pred))\n",
    "print('Root Mean Squared Rerror: ', np.sqrt(metrics.mean_squared_error(Y_test, y_pred)))"
   ]
  },
  {
   "cell_type": "markdown",
   "metadata": {},
   "source": [
    "Exportar modelo"
   ]
  },
  {
   "cell_type": "code",
   "execution_count": 30,
   "metadata": {},
   "outputs": [],
   "source": [
    "import joblib"
   ]
  },
  {
   "cell_type": "code",
   "execution_count": 31,
   "metadata": {},
   "outputs": [
    {
     "data": {
      "text/plain": [
       "['./trained_scaler.joblib']"
      ]
     },
     "execution_count": 31,
     "metadata": {},
     "output_type": "execute_result"
    }
   ],
   "source": [
    "model_path = './trained_model.joblib'\n",
    "joblib.dump(regressor, model_path)\n",
    "\n",
    "scaler_path = './trained_scaler.joblib'\n",
    "joblib.dump(sc, scaler_path)"
   ]
  },
  {
   "cell_type": "markdown",
   "metadata": {},
   "source": [
    "Predicción\n"
   ]
  },
  {
   "cell_type": "markdown",
   "metadata": {},
   "source": [
    "Interpretación de pregunta"
   ]
  },
  {
   "cell_type": "code",
   "execution_count": 94,
   "metadata": {},
   "outputs": [
    {
     "data": {
      "text/html": [
       "<div>\n",
       "<style scoped>\n",
       "    .dataframe tbody tr th:only-of-type {\n",
       "        vertical-align: middle;\n",
       "    }\n",
       "\n",
       "    .dataframe tbody tr th {\n",
       "        vertical-align: top;\n",
       "    }\n",
       "\n",
       "    .dataframe thead th {\n",
       "        text-align: right;\n",
       "    }\n",
       "</style>\n",
       "<table border=\"1\" class=\"dataframe\">\n",
       "  <thead>\n",
       "    <tr style=\"text-align: right;\">\n",
       "      <th></th>\n",
       "      <th>Campos</th>\n",
       "      <th>Descripcion</th>\n",
       "    </tr>\n",
       "  </thead>\n",
       "  <tbody>\n",
       "    <tr>\n",
       "      <th>0</th>\n",
       "      <td>Genero</td>\n",
       "      <td>Masculino</td>\n",
       "    </tr>\n",
       "    <tr>\n",
       "      <th>1</th>\n",
       "      <td>Genero</td>\n",
       "      <td>Femenino</td>\n",
       "    </tr>\n",
       "    <tr>\n",
       "      <th>2</th>\n",
       "      <td>Delito</td>\n",
       "      <td>Homicidio calificado</td>\n",
       "    </tr>\n",
       "    <tr>\n",
       "      <th>3</th>\n",
       "      <td>Delito</td>\n",
       "      <td>Homicidio simple</td>\n",
       "    </tr>\n",
       "    <tr>\n",
       "      <th>4</th>\n",
       "      <td>Apelacion</td>\n",
       "      <td>La apelación fue rechazada</td>\n",
       "    </tr>\n",
       "  </tbody>\n",
       "</table>\n",
       "</div>"
      ],
      "text/plain": [
       "      Campos                 Descripcion\n",
       "0     Genero                   Masculino\n",
       "1     Genero                    Femenino\n",
       "2     Delito        Homicidio calificado\n",
       "3     Delito            Homicidio simple\n",
       "4  Apelacion  La apelación fue rechazada"
      ]
     },
     "execution_count": 94,
     "metadata": {},
     "output_type": "execute_result"
    }
   ],
   "source": [
    "data = pd.read_csv('data.csv')\n",
    "data.head()"
   ]
  },
  {
   "cell_type": "code",
   "execution_count": 36,
   "metadata": {},
   "outputs": [],
   "source": [
    "from sentence_transformers import SentenceTransformer"
   ]
  },
  {
   "cell_type": "code",
   "execution_count": 37,
   "metadata": {},
   "outputs": [
    {
     "name": "stderr",
     "output_type": "stream",
     "text": [
      "Downloading pytorch_model.bin: 100%|██████████| 471M/471M [05:24<00:00, 1.45MB/s]\n",
      "Downloading (…)nce_bert_config.json: 100%|██████████| 53.0/53.0 [00:00<?, ?B/s]\n",
      "Downloading (…)tencepiece.bpe.model: 100%|██████████| 5.07M/5.07M [00:03<00:00, 1.34MB/s]\n",
      "Downloading (…)cial_tokens_map.json: 100%|██████████| 239/239 [00:00<?, ?B/s] \n",
      "Downloading tokenizer.json: 100%|██████████| 9.08M/9.08M [00:05<00:00, 1.78MB/s]\n",
      "Downloading (…)okenizer_config.json: 100%|██████████| 480/480 [00:00<?, ?B/s] \n",
      "Downloading unigram.json: 100%|██████████| 14.8M/14.8M [00:08<00:00, 1.69MB/s]\n",
      "Downloading (…)900fe39/modules.json: 100%|██████████| 229/229 [00:00<?, ?B/s] \n",
      "Downloading pytorch_model.bin:  80%|████████  | 377M/471M [19:45<04:52, 318kB/s] \n"
     ]
    }
   ],
   "source": [
    "model = SentenceTransformer('sentence-transformers/paraphrase-multilingual-MiniLM-L12-v2')"
   ]
  },
  {
   "cell_type": "code",
   "execution_count": 95,
   "metadata": {},
   "outputs": [
    {
     "data": {
      "text/html": [
       "<div>\n",
       "<style scoped>\n",
       "    .dataframe tbody tr th:only-of-type {\n",
       "        vertical-align: middle;\n",
       "    }\n",
       "\n",
       "    .dataframe tbody tr th {\n",
       "        vertical-align: top;\n",
       "    }\n",
       "\n",
       "    .dataframe thead th {\n",
       "        text-align: right;\n",
       "    }\n",
       "</style>\n",
       "<table border=\"1\" class=\"dataframe\">\n",
       "  <thead>\n",
       "    <tr style=\"text-align: right;\">\n",
       "      <th></th>\n",
       "      <th>Campos</th>\n",
       "      <th>Descripcion</th>\n",
       "      <th>Embedding</th>\n",
       "    </tr>\n",
       "  </thead>\n",
       "  <tbody>\n",
       "    <tr>\n",
       "      <th>0</th>\n",
       "      <td>Genero</td>\n",
       "      <td>Masculino</td>\n",
       "      <td>[0.0028098226, 0.28868827, -0.25101352, -0.037...</td>\n",
       "    </tr>\n",
       "    <tr>\n",
       "      <th>1</th>\n",
       "      <td>Genero</td>\n",
       "      <td>Femenino</td>\n",
       "      <td>[-0.0909995, 0.057980537, 0.05066517, 0.187216...</td>\n",
       "    </tr>\n",
       "    <tr>\n",
       "      <th>2</th>\n",
       "      <td>Delito</td>\n",
       "      <td>Homicidio calificado</td>\n",
       "      <td>[0.18678103, 0.09253031, -0.37106478, -0.01637...</td>\n",
       "    </tr>\n",
       "    <tr>\n",
       "      <th>3</th>\n",
       "      <td>Delito</td>\n",
       "      <td>Homicidio simple</td>\n",
       "      <td>[0.16404267, 0.204815, -0.20817995, 0.0866503,...</td>\n",
       "    </tr>\n",
       "    <tr>\n",
       "      <th>4</th>\n",
       "      <td>Apelacion</td>\n",
       "      <td>La apelación fue rechazada</td>\n",
       "      <td>[-0.14890194, 0.3409042, 0.012674256, -0.04179...</td>\n",
       "    </tr>\n",
       "  </tbody>\n",
       "</table>\n",
       "</div>"
      ],
      "text/plain": [
       "      Campos                 Descripcion  \\\n",
       "0     Genero                   Masculino   \n",
       "1     Genero                    Femenino   \n",
       "2     Delito        Homicidio calificado   \n",
       "3     Delito            Homicidio simple   \n",
       "4  Apelacion  La apelación fue rechazada   \n",
       "\n",
       "                                           Embedding  \n",
       "0  [0.0028098226, 0.28868827, -0.25101352, -0.037...  \n",
       "1  [-0.0909995, 0.057980537, 0.05066517, 0.187216...  \n",
       "2  [0.18678103, 0.09253031, -0.37106478, -0.01637...  \n",
       "3  [0.16404267, 0.204815, -0.20817995, 0.0866503,...  \n",
       "4  [-0.14890194, 0.3409042, 0.012674256, -0.04179...  "
      ]
     },
     "execution_count": 95,
     "metadata": {},
     "output_type": "execute_result"
    }
   ],
   "source": [
    "data['Embedding'] = data[\"Descripcion\"].apply(lambda x: model.encode(x))\n",
    "data.head()"
   ]
  },
  {
   "cell_type": "code",
   "execution_count": 40,
   "metadata": {},
   "outputs": [],
   "source": [
    "from openai.embeddings_utils import cosine_similarity"
   ]
  },
  {
   "cell_type": "code",
   "execution_count": 96,
   "metadata": {},
   "outputs": [],
   "source": [
    "description = 'Una persona es sentenciada a 35 años de cárcel por homicicdio calificado, sin embargo se presenta una apelación que es aceptada y le reducen la condena, además entra a programas de rehabilitación'\n",
    "description_embed = model.encode(description)\n",
    "data['Similarity'] = data[\"Embedding\"].apply(lambda x: cosine_similarity(x, description_embed))\n",
    "data = data.sort_values('Similarity', ascending=False)\n",
    "selected_data =  data.head()"
   ]
  },
  {
   "cell_type": "code",
   "execution_count": 97,
   "metadata": {},
   "outputs": [
    {
     "data": {
      "text/html": [
       "<div>\n",
       "<style scoped>\n",
       "    .dataframe tbody tr th:only-of-type {\n",
       "        vertical-align: middle;\n",
       "    }\n",
       "\n",
       "    .dataframe tbody tr th {\n",
       "        vertical-align: top;\n",
       "    }\n",
       "\n",
       "    .dataframe thead th {\n",
       "        text-align: right;\n",
       "    }\n",
       "</style>\n",
       "<table border=\"1\" class=\"dataframe\">\n",
       "  <thead>\n",
       "    <tr style=\"text-align: right;\">\n",
       "      <th></th>\n",
       "      <th>Campos</th>\n",
       "      <th>Descripcion</th>\n",
       "      <th>Embedding</th>\n",
       "      <th>Similarity</th>\n",
       "    </tr>\n",
       "  </thead>\n",
       "  <tbody>\n",
       "    <tr>\n",
       "      <th>8</th>\n",
       "      <td>programas de rehabilitación y tramiento</td>\n",
       "      <td>programas de rehabilitación y tramiento</td>\n",
       "      <td>[0.0509179, -0.11254731, 0.01503732, 0.2453223...</td>\n",
       "      <td>0.479276</td>\n",
       "    </tr>\n",
       "    <tr>\n",
       "      <th>2</th>\n",
       "      <td>Delito</td>\n",
       "      <td>Homicidio calificado</td>\n",
       "      <td>[0.18678103, 0.09253031, -0.37106478, -0.01637...</td>\n",
       "      <td>0.411108</td>\n",
       "    </tr>\n",
       "    <tr>\n",
       "      <th>9</th>\n",
       "      <td>Amnistía o indulto</td>\n",
       "      <td>Amnistía o indulto</td>\n",
       "      <td>[-0.010927631, 0.39389804, -0.6309355, -0.4097...</td>\n",
       "      <td>0.379297</td>\n",
       "    </tr>\n",
       "    <tr>\n",
       "      <th>3</th>\n",
       "      <td>Delito</td>\n",
       "      <td>Homicidio simple</td>\n",
       "      <td>[0.16404267, 0.204815, -0.20817995, 0.0866503,...</td>\n",
       "      <td>0.356841</td>\n",
       "    </tr>\n",
       "    <tr>\n",
       "      <th>6</th>\n",
       "      <td>Apelacion</td>\n",
       "      <td>La apelación fue aceptada</td>\n",
       "      <td>[-0.1225843, 0.14890775, -0.09785211, -0.12469...</td>\n",
       "      <td>0.341012</td>\n",
       "    </tr>\n",
       "  </tbody>\n",
       "</table>\n",
       "</div>"
      ],
      "text/plain": [
       "                                    Campos  \\\n",
       "8  programas de rehabilitación y tramiento   \n",
       "2                                   Delito   \n",
       "9                       Amnistía o indulto   \n",
       "3                                   Delito   \n",
       "6                                Apelacion   \n",
       "\n",
       "                               Descripcion  \\\n",
       "8  programas de rehabilitación y tramiento   \n",
       "2                     Homicidio calificado   \n",
       "9                       Amnistía o indulto   \n",
       "3                         Homicidio simple   \n",
       "6                La apelación fue aceptada   \n",
       "\n",
       "                                           Embedding  Similarity  \n",
       "8  [0.0509179, -0.11254731, 0.01503732, 0.2453223...    0.479276  \n",
       "2  [0.18678103, 0.09253031, -0.37106478, -0.01637...    0.411108  \n",
       "9  [-0.010927631, 0.39389804, -0.6309355, -0.4097...    0.379297  \n",
       "3  [0.16404267, 0.204815, -0.20817995, 0.0866503,...    0.356841  \n",
       "6  [-0.1225843, 0.14890775, -0.09785211, -0.12469...    0.341012  "
      ]
     },
     "execution_count": 97,
     "metadata": {},
     "output_type": "execute_result"
    }
   ],
   "source": [
    "data.head()"
   ]
  },
  {
   "cell_type": "code",
   "execution_count": 98,
   "metadata": {},
   "outputs": [],
   "source": [
    "case_data = {'Edad': 0,'Sentencia':'', 'Genero':'', 'Delito':'',\n",
    "       'Apelacion':'','Colaboracion con la justicia':'', 'programas de rehabilitación y tramiento':'',\n",
    "       'Amnistía o indulto':'', 'Motivos de salud':''}\n"
   ]
  },
  {
   "cell_type": "code",
   "execution_count": 99,
   "metadata": {},
   "outputs": [],
   "source": [
    "case_data[selected_data.iloc[0,0]] = selected_data.iloc[0,1]\n",
    "case_data[selected_data.iloc[1,0]] = selected_data.iloc[1,1]\n",
    "case_data[selected_data.iloc[2,0]] = selected_data.iloc[2,1]\n",
    "case_data[selected_data.iloc[3,0]] = selected_data.iloc[3,1]\n",
    "case_data[selected_data.iloc[4,0]] = selected_data.iloc[4,1]"
   ]
  },
  {
   "cell_type": "code",
   "execution_count": 90,
   "metadata": {},
   "outputs": [
    {
     "data": {
      "text/html": [
       "<div>\n",
       "<style scoped>\n",
       "    .dataframe tbody tr th:only-of-type {\n",
       "        vertical-align: middle;\n",
       "    }\n",
       "\n",
       "    .dataframe tbody tr th {\n",
       "        vertical-align: top;\n",
       "    }\n",
       "\n",
       "    .dataframe thead th {\n",
       "        text-align: right;\n",
       "    }\n",
       "</style>\n",
       "<table border=\"1\" class=\"dataframe\">\n",
       "  <thead>\n",
       "    <tr style=\"text-align: right;\">\n",
       "      <th></th>\n",
       "      <th>Edad</th>\n",
       "      <th>Sentencia</th>\n",
       "      <th>Genero</th>\n",
       "      <th>Delito</th>\n",
       "      <th>Apelacion</th>\n",
       "      <th>Colaboracion con la justicia</th>\n",
       "      <th>programas de rehabilitación y tramiento</th>\n",
       "      <th>Amnistía o indulto</th>\n",
       "      <th>Motivos de salud</th>\n",
       "    </tr>\n",
       "  </thead>\n",
       "  <tbody>\n",
       "    <tr>\n",
       "      <th>0</th>\n",
       "      <td>0</td>\n",
       "      <td></td>\n",
       "      <td></td>\n",
       "      <td>Homicidio simple</td>\n",
       "      <td>La apelación fue aceptada</td>\n",
       "      <td></td>\n",
       "      <td>programas de rehabilitación y tramiento</td>\n",
       "      <td>Amnistía o indulto</td>\n",
       "      <td></td>\n",
       "    </tr>\n",
       "  </tbody>\n",
       "</table>\n",
       "</div>"
      ],
      "text/plain": [
       "   Edad Sentencia Genero            Delito                  Apelacion  \\\n",
       "0     0                   Homicidio simple  La apelación fue aceptada   \n",
       "\n",
       "  Colaboracion con la justicia  programas de rehabilitación y tramiento  \\\n",
       "0                               programas de rehabilitación y tramiento   \n",
       "\n",
       "   Amnistía o indulto Motivos de salud  \n",
       "0  Amnistía o indulto                   "
      ]
     },
     "execution_count": 90,
     "metadata": {},
     "output_type": "execute_result"
    }
   ],
   "source": [
    "case_df = pd.DataFrame(case_data, index=[0])\n",
    "case_df"
   ]
  },
  {
   "cell_type": "code",
   "execution_count": 100,
   "metadata": {},
   "outputs": [],
   "source": [
    "case_df['Genero'] = case_df['Genero'].copy().map(Genero)\n",
    "case_df['Delito'] = case_df['Delito'].copy().map(Delito)\n",
    "case_df['Apelacion'] = case_df['Apelacion'].copy().map(Apelacion)\n",
    "case_df['Colaboracion con la justicia'] = case_df['Colaboracion con la justicia'].copy().map(ColaboracionJusticia)\n",
    "case_df['programas de rehabilitación y tramiento'] = case_df['programas de rehabilitación y tramiento'].copy().map(ProgramasRehabilitacion)\n",
    "case_df['Amnistía o indulto'] = case_df['Amnistía o indulto'].copy().map(AmnistiaOIndulto)\n",
    "case_df['Motivos de salud'] = case_df['Motivos de salud'].copy().map(MotivosSalud)\n"
   ]
  },
  {
   "cell_type": "code",
   "execution_count": 101,
   "metadata": {},
   "outputs": [
    {
     "data": {
      "text/html": [
       "<div>\n",
       "<style scoped>\n",
       "    .dataframe tbody tr th:only-of-type {\n",
       "        vertical-align: middle;\n",
       "    }\n",
       "\n",
       "    .dataframe tbody tr th {\n",
       "        vertical-align: top;\n",
       "    }\n",
       "\n",
       "    .dataframe thead th {\n",
       "        text-align: right;\n",
       "    }\n",
       "</style>\n",
       "<table border=\"1\" class=\"dataframe\">\n",
       "  <thead>\n",
       "    <tr style=\"text-align: right;\">\n",
       "      <th></th>\n",
       "      <th>Edad</th>\n",
       "      <th>Sentencia</th>\n",
       "      <th>Genero</th>\n",
       "      <th>Delito</th>\n",
       "      <th>Apelacion</th>\n",
       "      <th>Colaboracion con la justicia</th>\n",
       "      <th>programas de rehabilitación y tramiento</th>\n",
       "      <th>Amnistía o indulto</th>\n",
       "      <th>Motivos de salud</th>\n",
       "    </tr>\n",
       "  </thead>\n",
       "  <tbody>\n",
       "    <tr>\n",
       "      <th>0</th>\n",
       "      <td>0</td>\n",
       "      <td></td>\n",
       "      <td>0.0</td>\n",
       "      <td>0.0</td>\n",
       "      <td>0.0</td>\n",
       "      <td>0.0</td>\n",
       "      <td>0.0</td>\n",
       "      <td>0.0</td>\n",
       "      <td>0.0</td>\n",
       "    </tr>\n",
       "  </tbody>\n",
       "</table>\n",
       "</div>"
      ],
      "text/plain": [
       "   Edad Sentencia  Genero  Delito  Apelacion  Colaboracion con la justicia  \\\n",
       "0     0               0.0     0.0        0.0                           0.0   \n",
       "\n",
       "   programas de rehabilitación y tramiento  Amnistía o indulto  \\\n",
       "0                                      0.0                 0.0   \n",
       "\n",
       "   Motivos de salud  \n",
       "0               0.0  "
      ]
     },
     "execution_count": 101,
     "metadata": {},
     "output_type": "execute_result"
    }
   ],
   "source": [
    "case_df = case_df.fillna(0)\n",
    "case_df"
   ]
  },
  {
   "cell_type": "code",
   "execution_count": null,
   "metadata": {},
   "outputs": [],
   "source": [
    "New_df_scaled = sc.transform(case_df)\n",
    "prediction = regressor.predict(New_df_scaled)\n",
    "print('La reducción de la pena será: ',round(float(prediction)))"
   ]
  },
  {
   "cell_type": "markdown",
   "metadata": {},
   "source": [
    "Cargar modelo"
   ]
  },
  {
   "cell_type": "code",
   "execution_count": null,
   "metadata": {},
   "outputs": [],
   "source": [
    "path_model = './trained_model.joblib'\n",
    "loaded_model = joblib.load(path_model)"
   ]
  },
  {
   "cell_type": "code",
   "execution_count": null,
   "metadata": {},
   "outputs": [],
   "source": [
    "x_scaled = sc.transform(case_df)\n",
    "y_pred = loaded_model.predict(x_scaled)\n",
    "print('La reducción de la pena es de  ',round(y_pred[0]),' años')"
   ]
  }
 ],
 "metadata": {
  "kernelspec": {
   "display_name": "env",
   "language": "python",
   "name": "python3"
  },
  "language_info": {
   "codemirror_mode": {
    "name": "ipython",
    "version": 3
   },
   "file_extension": ".py",
   "mimetype": "text/x-python",
   "name": "python",
   "nbconvert_exporter": "python",
   "pygments_lexer": "ipython3",
   "version": "3.11.4"
  },
  "orig_nbformat": 4
 },
 "nbformat": 4,
 "nbformat_minor": 2
}
